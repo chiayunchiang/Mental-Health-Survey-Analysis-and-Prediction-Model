{
 "cells": [
  {
   "cell_type": "markdown",
   "metadata": {
    "id": "kcRRPMWsdsM4"
   },
   "source": [
    "## Author: Chia-Yun (Sandy) Chiang\n",
    "\n",
    "\n",
    "\n",
    "# 1. Introduction\n",
    "According to [CDC](https://www.cdc.gov/workplacehealthpromotion/tools-resources/workplace-health/mental-health/index.html), mental health is a big issue in the workplace. It not only hurts human body but also causes some problems in the workplace. CDC suggests that employers could promote awareness of mental health issues, leading to a healthier work environment. \n",
    "\n",
    "However, from the employee side, there might have some factors which influence the willingness to discuss mental health issues with their employer. As a result, this project aimed to learn more about mental health issues through employee survey data. \n",
    "\n",
    "# 2. Dataset Description\n",
    "In this project, I used the dataset from Kaggle (source: https://www.kaggle.com/osmi/mental-health-in-tech-survey). This dataset is 2014 mental health survey in the workplace, which includes 27 columns and 1259 records. Most of the columns represent one survey question and record the answer from respondents.\n",
    "\n",
    "The description of each column as below (below description are all from Kaggle):   \n",
    "\n",
    "- **Timestamp**\n",
    "- **Age**\n",
    "- **Gender**\n",
    "- **Country**\n",
    "- **state**: If you live in the United States, which state or territory do you live in?\n",
    "- **self_employed**: Are you self-employed?\n",
    "- **family_history**: Do you have a family history of mental illness?\n",
    "- **treatment**: Have you sought treatment for a mental health condition?\n",
    "- **work_interfere**: If you have a mental health condition, do you feel that it interferes with your work?\n",
    "- **no_employees**: How many employees does your company or organization have?\n",
    "- **remote_work**: Do you work remotely (outside of an office) at least 50% of the time?\n",
    "- **tech_company**: Is your employer primarily a tech company/organization?\n",
    "- **benefits**: Does your employer provide mental health benefits?\n",
    "- **care_options**: Do you know the options for mental health care your employer provides?\n",
    "- **wellness_program**: Has your employer ever discussed mental health as part of an employee wellness program?\n",
    "- **seek_help**: Does your employer provide resources to learn more about mental health issues and how to seek help?\n",
    "- **anonymity**: Is your anonymity protected if you choose to take advantage of mental health or substance abuse treatment resources?\n",
    "- **leave**: How easy is it for you to take medical leave for a mental health condition?\n",
    "- **mentalhealthconsequence**: Do you think that discussing a mental health issue with your employer would have negative consequences?\n",
    "- **physhealthconsequence**: Do you think that discussing a physical health issue with your employer would have negative consequences?\n",
    "- **coworkers**: Would you be willing to discuss a mental health issue with your coworkers?\n",
    "- **supervisor**: Would you be willing to discuss a mental health issue with your direct supervisor(s)?\n",
    "- **mentalhealthinterview**: Would you bring up a mental health issue with a potential employer in an interview?\n",
    "- **physhealthinterview**: Would you bring up a physical health issue with a potential employer in an interview?\n",
    "- **mentalvsphysical**: Do you feel that your employer takes mental health as seriously as physical health?\n",
    "- **obs_consequence**: Have you heard of or observed negative consequences for coworkers with mental health conditions in your workplace?\n",
    "- **comments**: Any additional notes or comments\n",
    "\n",
    "# 3. Purpose of this project\n",
    "\n",
    "I divided this project into two parts.\n",
    "\n",
    "In part I, I did exploratory data analysis and tried to answer some questions regarding this survey using inferential statistics.     \n",
    "In part II, I built a prediction model which trying to predict whether respondents have sought for mental health treatment before.\n"
   ]
  },
  {
   "cell_type": "markdown",
   "metadata": {
    "id": "jlnFgp0m1YVi"
   },
   "source": [
    "# Part I: Exploratory Data Analysis & Inferential Statistic"
   ]
  },
  {
   "cell_type": "markdown",
   "metadata": {
    "id": "gk7-QFeA1QIg"
   },
   "source": [
    "# Import libraries"
   ]
  },
  {
   "cell_type": "code",
   "execution_count": 347,
   "metadata": {
    "id": "cTFBL6U1dmHP"
   },
   "outputs": [],
   "source": [
    "import pandas as pd\n",
    "import numpy as np\n",
    "import matplotlib.pyplot as plt\n",
    "import matplotlib.ticker as mticker\n",
    "import seaborn as sns\n",
    "%matplotlib inline\n",
    "from scipy.stats import chi2_contingency\n",
    "from scipy.stats import chi2\n",
    "from sklearn.model_selection import train_test_split\n",
    "from sklearn.preprocessing import OrdinalEncoder\n",
    "from sklearn.preprocessing import LabelEncoder\n",
    "from sklearn.preprocessing import OneHotEncoder\n",
    "from sklearn.feature_selection import SelectKBest\n",
    "from sklearn.linear_model import LogisticRegression\n",
    "from sklearn.ensemble import RandomForestClassifier\n",
    "from sklearn.metrics import accuracy_score\n",
    "from sklearn.metrics import confusion_matrix\n",
    "from sklearn.metrics import classification_report\n",
    "plt.style.use('seaborn-white')\n",
    "plt.style.use('seaborn-pastel')\n",
    "plt.rcParams[\"figure.figsize\"] = (24,8)"
   ]
  },
  {
   "cell_type": "markdown",
   "metadata": {
    "id": "IOOQgJ8U2HsH"
   },
   "source": [
    "# Import data"
   ]
  },
  {
   "cell_type": "code",
   "execution_count": 348,
   "metadata": {
    "id": "TzLa9ivQ189D"
   },
   "outputs": [],
   "source": [
    "# https://docs.google.com/spreadsheets/d/e/2PACX-1vSCYywqmeyUTz0q_I4ODgHl3Umo7ke3pxL1v5Jh_7_8iA-UrIxfgeIpA60xsUYxi5sDOv2hnOvSc_4T/pub?gid=1038743524&single=true&output=csv\n",
    "path = \"https://docs.google.com/spreadsheets/d/e/2PACX-1vSCYywqmeyUTz0q_I4ODgHl3Umo7ke3pxL1v5Jh_7_8iA-UrIxfgeIpA60xsUYxi5sDOv2hnOvSc_4T/pub?gid=1038743524&single=true&output=csv\"\n",
    "df = pd.read_csv(path)"
   ]
  },
  {
   "cell_type": "markdown",
   "metadata": {
    "id": "9CRUlWO82M5w"
   },
   "source": [
    "# Overview of dataset"
   ]
  },
  {
   "cell_type": "code",
   "execution_count": 349,
   "metadata": {
    "colab": {
     "base_uri": "https://localhost:8080/",
     "height": 213
    },
    "id": "YN740lqD2Khi",
    "outputId": "934d6bb5-f4b4-4397-a26c-abd78ae272c1"
   },
   "outputs": [
    {
     "data": {
      "text/html": [
       "<div>\n",
       "<style scoped>\n",
       "    .dataframe tbody tr th:only-of-type {\n",
       "        vertical-align: middle;\n",
       "    }\n",
       "\n",
       "    .dataframe tbody tr th {\n",
       "        vertical-align: top;\n",
       "    }\n",
       "\n",
       "    .dataframe thead th {\n",
       "        text-align: right;\n",
       "    }\n",
       "</style>\n",
       "<table border=\"1\" class=\"dataframe\">\n",
       "  <thead>\n",
       "    <tr style=\"text-align: right;\">\n",
       "      <th></th>\n",
       "      <th>Timestamp</th>\n",
       "      <th>Age</th>\n",
       "      <th>Gender</th>\n",
       "      <th>Country</th>\n",
       "      <th>state</th>\n",
       "      <th>self_employed</th>\n",
       "      <th>family_history</th>\n",
       "      <th>treatment</th>\n",
       "      <th>work_interfere</th>\n",
       "      <th>no_employees</th>\n",
       "      <th>remote_work</th>\n",
       "      <th>tech_company</th>\n",
       "      <th>benefits</th>\n",
       "      <th>care_options</th>\n",
       "      <th>wellness_program</th>\n",
       "      <th>seek_help</th>\n",
       "      <th>anonymity</th>\n",
       "      <th>leave</th>\n",
       "      <th>mental_health_consequence</th>\n",
       "      <th>phys_health_consequence</th>\n",
       "      <th>coworkers</th>\n",
       "      <th>supervisor</th>\n",
       "      <th>mental_health_interview</th>\n",
       "      <th>phys_health_interview</th>\n",
       "      <th>mental_vs_physical</th>\n",
       "      <th>obs_consequence</th>\n",
       "      <th>comments</th>\n",
       "    </tr>\n",
       "  </thead>\n",
       "  <tbody>\n",
       "    <tr>\n",
       "      <th>0</th>\n",
       "      <td>2014-08-27 11:29:31</td>\n",
       "      <td>37</td>\n",
       "      <td>Female</td>\n",
       "      <td>United States</td>\n",
       "      <td>IL</td>\n",
       "      <td>NaN</td>\n",
       "      <td>No</td>\n",
       "      <td>Yes</td>\n",
       "      <td>Often</td>\n",
       "      <td>6-25</td>\n",
       "      <td>No</td>\n",
       "      <td>Yes</td>\n",
       "      <td>Yes</td>\n",
       "      <td>Not sure</td>\n",
       "      <td>No</td>\n",
       "      <td>Yes</td>\n",
       "      <td>Yes</td>\n",
       "      <td>Somewhat easy</td>\n",
       "      <td>No</td>\n",
       "      <td>No</td>\n",
       "      <td>Some of them</td>\n",
       "      <td>Yes</td>\n",
       "      <td>No</td>\n",
       "      <td>Maybe</td>\n",
       "      <td>Yes</td>\n",
       "      <td>No</td>\n",
       "      <td>NaN</td>\n",
       "    </tr>\n",
       "    <tr>\n",
       "      <th>1</th>\n",
       "      <td>2014-08-27 11:29:37</td>\n",
       "      <td>44</td>\n",
       "      <td>M</td>\n",
       "      <td>United States</td>\n",
       "      <td>IN</td>\n",
       "      <td>NaN</td>\n",
       "      <td>No</td>\n",
       "      <td>No</td>\n",
       "      <td>Rarely</td>\n",
       "      <td>More than 1000</td>\n",
       "      <td>No</td>\n",
       "      <td>No</td>\n",
       "      <td>Don't know</td>\n",
       "      <td>No</td>\n",
       "      <td>Don't know</td>\n",
       "      <td>Don't know</td>\n",
       "      <td>Don't know</td>\n",
       "      <td>Don't know</td>\n",
       "      <td>Maybe</td>\n",
       "      <td>No</td>\n",
       "      <td>No</td>\n",
       "      <td>No</td>\n",
       "      <td>No</td>\n",
       "      <td>No</td>\n",
       "      <td>Don't know</td>\n",
       "      <td>No</td>\n",
       "      <td>NaN</td>\n",
       "    </tr>\n",
       "    <tr>\n",
       "      <th>2</th>\n",
       "      <td>2014-08-27 11:29:44</td>\n",
       "      <td>32</td>\n",
       "      <td>Male</td>\n",
       "      <td>Canada</td>\n",
       "      <td>NaN</td>\n",
       "      <td>NaN</td>\n",
       "      <td>No</td>\n",
       "      <td>No</td>\n",
       "      <td>Rarely</td>\n",
       "      <td>6-25</td>\n",
       "      <td>No</td>\n",
       "      <td>Yes</td>\n",
       "      <td>No</td>\n",
       "      <td>No</td>\n",
       "      <td>No</td>\n",
       "      <td>No</td>\n",
       "      <td>Don't know</td>\n",
       "      <td>Somewhat difficult</td>\n",
       "      <td>No</td>\n",
       "      <td>No</td>\n",
       "      <td>Yes</td>\n",
       "      <td>Yes</td>\n",
       "      <td>Yes</td>\n",
       "      <td>Yes</td>\n",
       "      <td>No</td>\n",
       "      <td>No</td>\n",
       "      <td>NaN</td>\n",
       "    </tr>\n",
       "  </tbody>\n",
       "</table>\n",
       "</div>"
      ],
      "text/plain": [
       "             Timestamp  Age  Gender  ... mental_vs_physical obs_consequence comments\n",
       "0  2014-08-27 11:29:31   37  Female  ...                Yes              No      NaN\n",
       "1  2014-08-27 11:29:37   44       M  ...         Don't know              No      NaN\n",
       "2  2014-08-27 11:29:44   32    Male  ...                 No              No      NaN\n",
       "\n",
       "[3 rows x 27 columns]"
      ]
     },
     "execution_count": 349,
     "metadata": {
      "tags": []
     },
     "output_type": "execute_result"
    }
   ],
   "source": [
    "df.head(3)"
   ]
  },
  {
   "cell_type": "code",
   "execution_count": 350,
   "metadata": {
    "colab": {
     "base_uri": "https://localhost:8080/",
     "height": 213
    },
    "id": "r0e2NdDl2T5e",
    "outputId": "2b8b3803-2a5d-4747-f10f-a759f26d8086"
   },
   "outputs": [
    {
     "data": {
      "text/html": [
       "<div>\n",
       "<style scoped>\n",
       "    .dataframe tbody tr th:only-of-type {\n",
       "        vertical-align: middle;\n",
       "    }\n",
       "\n",
       "    .dataframe tbody tr th {\n",
       "        vertical-align: top;\n",
       "    }\n",
       "\n",
       "    .dataframe thead th {\n",
       "        text-align: right;\n",
       "    }\n",
       "</style>\n",
       "<table border=\"1\" class=\"dataframe\">\n",
       "  <thead>\n",
       "    <tr style=\"text-align: right;\">\n",
       "      <th></th>\n",
       "      <th>Timestamp</th>\n",
       "      <th>Age</th>\n",
       "      <th>Gender</th>\n",
       "      <th>Country</th>\n",
       "      <th>state</th>\n",
       "      <th>self_employed</th>\n",
       "      <th>family_history</th>\n",
       "      <th>treatment</th>\n",
       "      <th>work_interfere</th>\n",
       "      <th>no_employees</th>\n",
       "      <th>remote_work</th>\n",
       "      <th>tech_company</th>\n",
       "      <th>benefits</th>\n",
       "      <th>care_options</th>\n",
       "      <th>wellness_program</th>\n",
       "      <th>seek_help</th>\n",
       "      <th>anonymity</th>\n",
       "      <th>leave</th>\n",
       "      <th>mental_health_consequence</th>\n",
       "      <th>phys_health_consequence</th>\n",
       "      <th>coworkers</th>\n",
       "      <th>supervisor</th>\n",
       "      <th>mental_health_interview</th>\n",
       "      <th>phys_health_interview</th>\n",
       "      <th>mental_vs_physical</th>\n",
       "      <th>obs_consequence</th>\n",
       "      <th>comments</th>\n",
       "    </tr>\n",
       "  </thead>\n",
       "  <tbody>\n",
       "    <tr>\n",
       "      <th>1256</th>\n",
       "      <td>2015-11-07 12:36:58</td>\n",
       "      <td>34</td>\n",
       "      <td>male</td>\n",
       "      <td>United States</td>\n",
       "      <td>CA</td>\n",
       "      <td>No</td>\n",
       "      <td>Yes</td>\n",
       "      <td>Yes</td>\n",
       "      <td>Sometimes</td>\n",
       "      <td>More than 1000</td>\n",
       "      <td>No</td>\n",
       "      <td>Yes</td>\n",
       "      <td>Yes</td>\n",
       "      <td>Yes</td>\n",
       "      <td>No</td>\n",
       "      <td>No</td>\n",
       "      <td>Don't know</td>\n",
       "      <td>Somewhat difficult</td>\n",
       "      <td>Yes</td>\n",
       "      <td>Yes</td>\n",
       "      <td>No</td>\n",
       "      <td>No</td>\n",
       "      <td>No</td>\n",
       "      <td>No</td>\n",
       "      <td>No</td>\n",
       "      <td>No</td>\n",
       "      <td>NaN</td>\n",
       "    </tr>\n",
       "    <tr>\n",
       "      <th>1257</th>\n",
       "      <td>2015-11-30 21:25:06</td>\n",
       "      <td>46</td>\n",
       "      <td>f</td>\n",
       "      <td>United States</td>\n",
       "      <td>NC</td>\n",
       "      <td>No</td>\n",
       "      <td>No</td>\n",
       "      <td>No</td>\n",
       "      <td>NaN</td>\n",
       "      <td>100-500</td>\n",
       "      <td>Yes</td>\n",
       "      <td>Yes</td>\n",
       "      <td>No</td>\n",
       "      <td>Yes</td>\n",
       "      <td>No</td>\n",
       "      <td>No</td>\n",
       "      <td>Don't know</td>\n",
       "      <td>Don't know</td>\n",
       "      <td>Yes</td>\n",
       "      <td>No</td>\n",
       "      <td>No</td>\n",
       "      <td>No</td>\n",
       "      <td>No</td>\n",
       "      <td>No</td>\n",
       "      <td>No</td>\n",
       "      <td>No</td>\n",
       "      <td>NaN</td>\n",
       "    </tr>\n",
       "    <tr>\n",
       "      <th>1258</th>\n",
       "      <td>2016-02-01 23:04:31</td>\n",
       "      <td>25</td>\n",
       "      <td>Male</td>\n",
       "      <td>United States</td>\n",
       "      <td>IL</td>\n",
       "      <td>No</td>\n",
       "      <td>Yes</td>\n",
       "      <td>Yes</td>\n",
       "      <td>Sometimes</td>\n",
       "      <td>26-100</td>\n",
       "      <td>No</td>\n",
       "      <td>No</td>\n",
       "      <td>Yes</td>\n",
       "      <td>Yes</td>\n",
       "      <td>No</td>\n",
       "      <td>No</td>\n",
       "      <td>Yes</td>\n",
       "      <td>Don't know</td>\n",
       "      <td>Maybe</td>\n",
       "      <td>No</td>\n",
       "      <td>Some of them</td>\n",
       "      <td>No</td>\n",
       "      <td>No</td>\n",
       "      <td>No</td>\n",
       "      <td>Don't know</td>\n",
       "      <td>No</td>\n",
       "      <td>NaN</td>\n",
       "    </tr>\n",
       "  </tbody>\n",
       "</table>\n",
       "</div>"
      ],
      "text/plain": [
       "                Timestamp  Age  ... obs_consequence comments\n",
       "1256  2015-11-07 12:36:58   34  ...              No      NaN\n",
       "1257  2015-11-30 21:25:06   46  ...              No      NaN\n",
       "1258  2016-02-01 23:04:31   25  ...              No      NaN\n",
       "\n",
       "[3 rows x 27 columns]"
      ]
     },
     "execution_count": 350,
     "metadata": {
      "tags": []
     },
     "output_type": "execute_result"
    }
   ],
   "source": [
    "df.tail(3)"
   ]
  },
  {
   "cell_type": "code",
   "execution_count": 351,
   "metadata": {
    "colab": {
     "base_uri": "https://localhost:8080/"
    },
    "id": "j7A95PKi2Vv-",
    "outputId": "f6e47791-5afc-44ee-be28-69b7aecd6e03"
   },
   "outputs": [
    {
     "data": {
      "text/plain": [
       "(1259, 27)"
      ]
     },
     "execution_count": 351,
     "metadata": {
      "tags": []
     },
     "output_type": "execute_result"
    }
   ],
   "source": [
    "df.shape"
   ]
  },
  {
   "cell_type": "code",
   "execution_count": 352,
   "metadata": {
    "colab": {
     "base_uri": "https://localhost:8080/"
    },
    "id": "5bQArNus2Xvy",
    "outputId": "08677573-1800-4dd4-a49b-42b269602cc8"
   },
   "outputs": [
    {
     "name": "stdout",
     "output_type": "stream",
     "text": [
      "<class 'pandas.core.frame.DataFrame'>\n",
      "RangeIndex: 1259 entries, 0 to 1258\n",
      "Data columns (total 27 columns):\n",
      " #   Column                     Non-Null Count  Dtype \n",
      "---  ------                     --------------  ----- \n",
      " 0   Timestamp                  1259 non-null   object\n",
      " 1   Age                        1259 non-null   int64 \n",
      " 2   Gender                     1259 non-null   object\n",
      " 3   Country                    1259 non-null   object\n",
      " 4   state                      744 non-null    object\n",
      " 5   self_employed              1241 non-null   object\n",
      " 6   family_history             1259 non-null   object\n",
      " 7   treatment                  1259 non-null   object\n",
      " 8   work_interfere             995 non-null    object\n",
      " 9   no_employees               1259 non-null   object\n",
      " 10  remote_work                1259 non-null   object\n",
      " 11  tech_company               1259 non-null   object\n",
      " 12  benefits                   1259 non-null   object\n",
      " 13  care_options               1259 non-null   object\n",
      " 14  wellness_program           1259 non-null   object\n",
      " 15  seek_help                  1259 non-null   object\n",
      " 16  anonymity                  1259 non-null   object\n",
      " 17  leave                      1259 non-null   object\n",
      " 18  mental_health_consequence  1259 non-null   object\n",
      " 19  phys_health_consequence    1259 non-null   object\n",
      " 20  coworkers                  1259 non-null   object\n",
      " 21  supervisor                 1259 non-null   object\n",
      " 22  mental_health_interview    1259 non-null   object\n",
      " 23  phys_health_interview      1259 non-null   object\n",
      " 24  mental_vs_physical         1259 non-null   object\n",
      " 25  obs_consequence            1259 non-null   object\n",
      " 26  comments                   164 non-null    object\n",
      "dtypes: int64(1), object(26)\n",
      "memory usage: 265.7+ KB\n"
     ]
    }
   ],
   "source": [
    "df.info()"
   ]
  },
  {
   "cell_type": "code",
   "execution_count": 353,
   "metadata": {
    "colab": {
     "base_uri": "https://localhost:8080/"
    },
    "id": "EeOyETP12ZsE",
    "outputId": "024984da-cc00-4ca8-c727-644cdf301400"
   },
   "outputs": [
    {
     "data": {
      "text/plain": [
       "Timestamp                       0\n",
       "Age                             0\n",
       "Gender                          0\n",
       "Country                         0\n",
       "state                         515\n",
       "self_employed                  18\n",
       "family_history                  0\n",
       "treatment                       0\n",
       "work_interfere                264\n",
       "no_employees                    0\n",
       "remote_work                     0\n",
       "tech_company                    0\n",
       "benefits                        0\n",
       "care_options                    0\n",
       "wellness_program                0\n",
       "seek_help                       0\n",
       "anonymity                       0\n",
       "leave                           0\n",
       "mental_health_consequence       0\n",
       "phys_health_consequence         0\n",
       "coworkers                       0\n",
       "supervisor                      0\n",
       "mental_health_interview         0\n",
       "phys_health_interview           0\n",
       "mental_vs_physical              0\n",
       "obs_consequence                 0\n",
       "comments                     1095\n",
       "dtype: int64"
      ]
     },
     "execution_count": 353,
     "metadata": {
      "tags": []
     },
     "output_type": "execute_result"
    }
   ],
   "source": [
    "# Check null value in each column\n",
    "df.isnull().sum()"
   ]
  },
  {
   "cell_type": "code",
   "execution_count": 354,
   "metadata": {
    "colab": {
     "base_uri": "https://localhost:8080/",
     "height": 458
    },
    "id": "DZngOmLv2ceq",
    "outputId": "f898e360-0220-43af-fee8-96b12a2937ab"
   },
   "outputs": [
    {
     "data": {
      "text/html": [
       "<div>\n",
       "<style scoped>\n",
       "    .dataframe tbody tr th:only-of-type {\n",
       "        vertical-align: middle;\n",
       "    }\n",
       "\n",
       "    .dataframe tbody tr th {\n",
       "        vertical-align: top;\n",
       "    }\n",
       "\n",
       "    .dataframe thead th {\n",
       "        text-align: right;\n",
       "    }\n",
       "</style>\n",
       "<table border=\"1\" class=\"dataframe\">\n",
       "  <thead>\n",
       "    <tr style=\"text-align: right;\">\n",
       "      <th></th>\n",
       "      <th>Timestamp</th>\n",
       "      <th>Age</th>\n",
       "      <th>Gender</th>\n",
       "      <th>Country</th>\n",
       "      <th>state</th>\n",
       "      <th>self_employed</th>\n",
       "      <th>family_history</th>\n",
       "      <th>treatment</th>\n",
       "      <th>work_interfere</th>\n",
       "      <th>no_employees</th>\n",
       "      <th>remote_work</th>\n",
       "      <th>tech_company</th>\n",
       "      <th>benefits</th>\n",
       "      <th>care_options</th>\n",
       "      <th>wellness_program</th>\n",
       "      <th>seek_help</th>\n",
       "      <th>anonymity</th>\n",
       "      <th>leave</th>\n",
       "      <th>mental_health_consequence</th>\n",
       "      <th>phys_health_consequence</th>\n",
       "      <th>coworkers</th>\n",
       "      <th>supervisor</th>\n",
       "      <th>mental_health_interview</th>\n",
       "      <th>phys_health_interview</th>\n",
       "      <th>mental_vs_physical</th>\n",
       "      <th>obs_consequence</th>\n",
       "      <th>comments</th>\n",
       "    </tr>\n",
       "  </thead>\n",
       "  <tbody>\n",
       "    <tr>\n",
       "      <th>count</th>\n",
       "      <td>1259</td>\n",
       "      <td>1.259000e+03</td>\n",
       "      <td>1259</td>\n",
       "      <td>1259</td>\n",
       "      <td>744</td>\n",
       "      <td>1241</td>\n",
       "      <td>1259</td>\n",
       "      <td>1259</td>\n",
       "      <td>995</td>\n",
       "      <td>1259</td>\n",
       "      <td>1259</td>\n",
       "      <td>1259</td>\n",
       "      <td>1259</td>\n",
       "      <td>1259</td>\n",
       "      <td>1259</td>\n",
       "      <td>1259</td>\n",
       "      <td>1259</td>\n",
       "      <td>1259</td>\n",
       "      <td>1259</td>\n",
       "      <td>1259</td>\n",
       "      <td>1259</td>\n",
       "      <td>1259</td>\n",
       "      <td>1259</td>\n",
       "      <td>1259</td>\n",
       "      <td>1259</td>\n",
       "      <td>1259</td>\n",
       "      <td>164</td>\n",
       "    </tr>\n",
       "    <tr>\n",
       "      <th>unique</th>\n",
       "      <td>1246</td>\n",
       "      <td>NaN</td>\n",
       "      <td>49</td>\n",
       "      <td>48</td>\n",
       "      <td>45</td>\n",
       "      <td>2</td>\n",
       "      <td>2</td>\n",
       "      <td>2</td>\n",
       "      <td>4</td>\n",
       "      <td>6</td>\n",
       "      <td>2</td>\n",
       "      <td>2</td>\n",
       "      <td>3</td>\n",
       "      <td>3</td>\n",
       "      <td>3</td>\n",
       "      <td>3</td>\n",
       "      <td>3</td>\n",
       "      <td>5</td>\n",
       "      <td>3</td>\n",
       "      <td>3</td>\n",
       "      <td>3</td>\n",
       "      <td>3</td>\n",
       "      <td>3</td>\n",
       "      <td>3</td>\n",
       "      <td>3</td>\n",
       "      <td>2</td>\n",
       "      <td>160</td>\n",
       "    </tr>\n",
       "    <tr>\n",
       "      <th>top</th>\n",
       "      <td>2014-08-27 12:43:28</td>\n",
       "      <td>NaN</td>\n",
       "      <td>Male</td>\n",
       "      <td>United States</td>\n",
       "      <td>CA</td>\n",
       "      <td>No</td>\n",
       "      <td>No</td>\n",
       "      <td>Yes</td>\n",
       "      <td>Sometimes</td>\n",
       "      <td>6-25</td>\n",
       "      <td>No</td>\n",
       "      <td>Yes</td>\n",
       "      <td>Yes</td>\n",
       "      <td>No</td>\n",
       "      <td>No</td>\n",
       "      <td>No</td>\n",
       "      <td>Don't know</td>\n",
       "      <td>Don't know</td>\n",
       "      <td>No</td>\n",
       "      <td>No</td>\n",
       "      <td>Some of them</td>\n",
       "      <td>Yes</td>\n",
       "      <td>No</td>\n",
       "      <td>Maybe</td>\n",
       "      <td>Don't know</td>\n",
       "      <td>No</td>\n",
       "      <td>* Small family business - YMMV.</td>\n",
       "    </tr>\n",
       "    <tr>\n",
       "      <th>freq</th>\n",
       "      <td>2</td>\n",
       "      <td>NaN</td>\n",
       "      <td>615</td>\n",
       "      <td>751</td>\n",
       "      <td>138</td>\n",
       "      <td>1095</td>\n",
       "      <td>767</td>\n",
       "      <td>637</td>\n",
       "      <td>465</td>\n",
       "      <td>290</td>\n",
       "      <td>883</td>\n",
       "      <td>1031</td>\n",
       "      <td>477</td>\n",
       "      <td>501</td>\n",
       "      <td>842</td>\n",
       "      <td>646</td>\n",
       "      <td>819</td>\n",
       "      <td>563</td>\n",
       "      <td>490</td>\n",
       "      <td>925</td>\n",
       "      <td>774</td>\n",
       "      <td>516</td>\n",
       "      <td>1008</td>\n",
       "      <td>557</td>\n",
       "      <td>576</td>\n",
       "      <td>1075</td>\n",
       "      <td>5</td>\n",
       "    </tr>\n",
       "    <tr>\n",
       "      <th>mean</th>\n",
       "      <td>NaN</td>\n",
       "      <td>7.942815e+07</td>\n",
       "      <td>NaN</td>\n",
       "      <td>NaN</td>\n",
       "      <td>NaN</td>\n",
       "      <td>NaN</td>\n",
       "      <td>NaN</td>\n",
       "      <td>NaN</td>\n",
       "      <td>NaN</td>\n",
       "      <td>NaN</td>\n",
       "      <td>NaN</td>\n",
       "      <td>NaN</td>\n",
       "      <td>NaN</td>\n",
       "      <td>NaN</td>\n",
       "      <td>NaN</td>\n",
       "      <td>NaN</td>\n",
       "      <td>NaN</td>\n",
       "      <td>NaN</td>\n",
       "      <td>NaN</td>\n",
       "      <td>NaN</td>\n",
       "      <td>NaN</td>\n",
       "      <td>NaN</td>\n",
       "      <td>NaN</td>\n",
       "      <td>NaN</td>\n",
       "      <td>NaN</td>\n",
       "      <td>NaN</td>\n",
       "      <td>NaN</td>\n",
       "    </tr>\n",
       "    <tr>\n",
       "      <th>std</th>\n",
       "      <td>NaN</td>\n",
       "      <td>2.818299e+09</td>\n",
       "      <td>NaN</td>\n",
       "      <td>NaN</td>\n",
       "      <td>NaN</td>\n",
       "      <td>NaN</td>\n",
       "      <td>NaN</td>\n",
       "      <td>NaN</td>\n",
       "      <td>NaN</td>\n",
       "      <td>NaN</td>\n",
       "      <td>NaN</td>\n",
       "      <td>NaN</td>\n",
       "      <td>NaN</td>\n",
       "      <td>NaN</td>\n",
       "      <td>NaN</td>\n",
       "      <td>NaN</td>\n",
       "      <td>NaN</td>\n",
       "      <td>NaN</td>\n",
       "      <td>NaN</td>\n",
       "      <td>NaN</td>\n",
       "      <td>NaN</td>\n",
       "      <td>NaN</td>\n",
       "      <td>NaN</td>\n",
       "      <td>NaN</td>\n",
       "      <td>NaN</td>\n",
       "      <td>NaN</td>\n",
       "      <td>NaN</td>\n",
       "    </tr>\n",
       "    <tr>\n",
       "      <th>min</th>\n",
       "      <td>NaN</td>\n",
       "      <td>-1.726000e+03</td>\n",
       "      <td>NaN</td>\n",
       "      <td>NaN</td>\n",
       "      <td>NaN</td>\n",
       "      <td>NaN</td>\n",
       "      <td>NaN</td>\n",
       "      <td>NaN</td>\n",
       "      <td>NaN</td>\n",
       "      <td>NaN</td>\n",
       "      <td>NaN</td>\n",
       "      <td>NaN</td>\n",
       "      <td>NaN</td>\n",
       "      <td>NaN</td>\n",
       "      <td>NaN</td>\n",
       "      <td>NaN</td>\n",
       "      <td>NaN</td>\n",
       "      <td>NaN</td>\n",
       "      <td>NaN</td>\n",
       "      <td>NaN</td>\n",
       "      <td>NaN</td>\n",
       "      <td>NaN</td>\n",
       "      <td>NaN</td>\n",
       "      <td>NaN</td>\n",
       "      <td>NaN</td>\n",
       "      <td>NaN</td>\n",
       "      <td>NaN</td>\n",
       "    </tr>\n",
       "    <tr>\n",
       "      <th>25%</th>\n",
       "      <td>NaN</td>\n",
       "      <td>2.700000e+01</td>\n",
       "      <td>NaN</td>\n",
       "      <td>NaN</td>\n",
       "      <td>NaN</td>\n",
       "      <td>NaN</td>\n",
       "      <td>NaN</td>\n",
       "      <td>NaN</td>\n",
       "      <td>NaN</td>\n",
       "      <td>NaN</td>\n",
       "      <td>NaN</td>\n",
       "      <td>NaN</td>\n",
       "      <td>NaN</td>\n",
       "      <td>NaN</td>\n",
       "      <td>NaN</td>\n",
       "      <td>NaN</td>\n",
       "      <td>NaN</td>\n",
       "      <td>NaN</td>\n",
       "      <td>NaN</td>\n",
       "      <td>NaN</td>\n",
       "      <td>NaN</td>\n",
       "      <td>NaN</td>\n",
       "      <td>NaN</td>\n",
       "      <td>NaN</td>\n",
       "      <td>NaN</td>\n",
       "      <td>NaN</td>\n",
       "      <td>NaN</td>\n",
       "    </tr>\n",
       "    <tr>\n",
       "      <th>50%</th>\n",
       "      <td>NaN</td>\n",
       "      <td>3.100000e+01</td>\n",
       "      <td>NaN</td>\n",
       "      <td>NaN</td>\n",
       "      <td>NaN</td>\n",
       "      <td>NaN</td>\n",
       "      <td>NaN</td>\n",
       "      <td>NaN</td>\n",
       "      <td>NaN</td>\n",
       "      <td>NaN</td>\n",
       "      <td>NaN</td>\n",
       "      <td>NaN</td>\n",
       "      <td>NaN</td>\n",
       "      <td>NaN</td>\n",
       "      <td>NaN</td>\n",
       "      <td>NaN</td>\n",
       "      <td>NaN</td>\n",
       "      <td>NaN</td>\n",
       "      <td>NaN</td>\n",
       "      <td>NaN</td>\n",
       "      <td>NaN</td>\n",
       "      <td>NaN</td>\n",
       "      <td>NaN</td>\n",
       "      <td>NaN</td>\n",
       "      <td>NaN</td>\n",
       "      <td>NaN</td>\n",
       "      <td>NaN</td>\n",
       "    </tr>\n",
       "    <tr>\n",
       "      <th>75%</th>\n",
       "      <td>NaN</td>\n",
       "      <td>3.600000e+01</td>\n",
       "      <td>NaN</td>\n",
       "      <td>NaN</td>\n",
       "      <td>NaN</td>\n",
       "      <td>NaN</td>\n",
       "      <td>NaN</td>\n",
       "      <td>NaN</td>\n",
       "      <td>NaN</td>\n",
       "      <td>NaN</td>\n",
       "      <td>NaN</td>\n",
       "      <td>NaN</td>\n",
       "      <td>NaN</td>\n",
       "      <td>NaN</td>\n",
       "      <td>NaN</td>\n",
       "      <td>NaN</td>\n",
       "      <td>NaN</td>\n",
       "      <td>NaN</td>\n",
       "      <td>NaN</td>\n",
       "      <td>NaN</td>\n",
       "      <td>NaN</td>\n",
       "      <td>NaN</td>\n",
       "      <td>NaN</td>\n",
       "      <td>NaN</td>\n",
       "      <td>NaN</td>\n",
       "      <td>NaN</td>\n",
       "      <td>NaN</td>\n",
       "    </tr>\n",
       "    <tr>\n",
       "      <th>max</th>\n",
       "      <td>NaN</td>\n",
       "      <td>1.000000e+11</td>\n",
       "      <td>NaN</td>\n",
       "      <td>NaN</td>\n",
       "      <td>NaN</td>\n",
       "      <td>NaN</td>\n",
       "      <td>NaN</td>\n",
       "      <td>NaN</td>\n",
       "      <td>NaN</td>\n",
       "      <td>NaN</td>\n",
       "      <td>NaN</td>\n",
       "      <td>NaN</td>\n",
       "      <td>NaN</td>\n",
       "      <td>NaN</td>\n",
       "      <td>NaN</td>\n",
       "      <td>NaN</td>\n",
       "      <td>NaN</td>\n",
       "      <td>NaN</td>\n",
       "      <td>NaN</td>\n",
       "      <td>NaN</td>\n",
       "      <td>NaN</td>\n",
       "      <td>NaN</td>\n",
       "      <td>NaN</td>\n",
       "      <td>NaN</td>\n",
       "      <td>NaN</td>\n",
       "      <td>NaN</td>\n",
       "      <td>NaN</td>\n",
       "    </tr>\n",
       "  </tbody>\n",
       "</table>\n",
       "</div>"
      ],
      "text/plain": [
       "                  Timestamp  ...                         comments\n",
       "count                  1259  ...                              164\n",
       "unique                 1246  ...                              160\n",
       "top     2014-08-27 12:43:28  ...  * Small family business - YMMV.\n",
       "freq                      2  ...                                5\n",
       "mean                    NaN  ...                              NaN\n",
       "std                     NaN  ...                              NaN\n",
       "min                     NaN  ...                              NaN\n",
       "25%                     NaN  ...                              NaN\n",
       "50%                     NaN  ...                              NaN\n",
       "75%                     NaN  ...                              NaN\n",
       "max                     NaN  ...                              NaN\n",
       "\n",
       "[11 rows x 27 columns]"
      ]
     },
     "execution_count": 354,
     "metadata": {
      "tags": []
     },
     "output_type": "execute_result"
    }
   ],
   "source": [
    "df.describe(include=\"all\")"
   ]
  },
  {
   "cell_type": "markdown",
   "metadata": {
    "id": "_s2XtVel2he-"
   },
   "source": [
    "**Summary & Next steps**\n",
    "- Check Gender column (it has 49 unique value)\n",
    "- Check Country column\n",
    "- Visualize Age column\n",
    "- Consider to drop Timestamp and comments column\n",
    "- Deal with columns which includes null value (state, self_employed, and work_interfere)"
   ]
  },
  {
   "cell_type": "markdown",
   "metadata": {
    "id": "jPCvhVKk214U"
   },
   "source": [
    "## Check Gender Column"
   ]
  },
  {
   "cell_type": "code",
   "execution_count": 355,
   "metadata": {
    "colab": {
     "base_uri": "https://localhost:8080/"
    },
    "id": "i69eLMJT2eyq",
    "outputId": "c508afb6-cac7-4231-bc89-a7c6dcfd024b"
   },
   "outputs": [
    {
     "data": {
      "text/plain": [
       "Male                                              615\n",
       "male                                              206\n",
       "Female                                            121\n",
       "M                                                 116\n",
       "female                                             62\n",
       "F                                                  38\n",
       "m                                                  34\n",
       "f                                                  15\n",
       "Make                                                4\n",
       "Woman                                               3\n",
       "Male                                                3\n",
       "Cis Male                                            2\n",
       "Female (trans)                                      2\n",
       "Female                                              2\n",
       "Man                                                 2\n",
       "A little about you                                  1\n",
       "All                                                 1\n",
       "woman                                               1\n",
       "Enby                                                1\n",
       "maile                                               1\n",
       "Trans-female                                        1\n",
       "queer/she/they                                      1\n",
       "Female (cis)                                        1\n",
       "Cis Female                                          1\n",
       "femail                                              1\n",
       "Guy (-ish) ^_^                                      1\n",
       "Trans woman                                         1\n",
       "queer                                               1\n",
       "msle                                                1\n",
       "p                                                   1\n",
       "Agender                                             1\n",
       "ostensibly male, unsure what that really means      1\n",
       "male leaning androgynous                            1\n",
       "Cis Man                                             1\n",
       "Femake                                              1\n",
       "Genderqueer                                         1\n",
       "Neuter                                              1\n",
       "something kinda male?                               1\n",
       "cis male                                            1\n",
       "Male-ish                                            1\n",
       "Malr                                                1\n",
       "Male (CIS)                                          1\n",
       "Nah                                                 1\n",
       "Mail                                                1\n",
       "non-binary                                          1\n",
       "cis-female/femme                                    1\n",
       "Mal                                                 1\n",
       "fluid                                               1\n",
       "Androgyne                                           1\n",
       "Name: Gender, dtype: int64"
      ]
     },
     "execution_count": 355,
     "metadata": {
      "tags": []
     },
     "output_type": "execute_result"
    }
   ],
   "source": [
    "df[\"Gender\"].value_counts()"
   ]
  },
  {
   "cell_type": "code",
   "execution_count": 356,
   "metadata": {
    "colab": {
     "base_uri": "https://localhost:8080/"
    },
    "id": "Pbfa3DVC29uE",
    "outputId": "73baa8c9-9e00-4dba-a331-a9f4cdc867a1"
   },
   "outputs": [
    {
     "data": {
      "text/plain": [
       "male                                              824\n",
       "female                                            185\n",
       "m                                                 150\n",
       "f                                                  53\n",
       "make                                                4\n",
       "woman                                               4\n",
       "cis male                                            3\n",
       "man                                                 2\n",
       "female (trans)                                      2\n",
       "femail                                              1\n",
       "nah                                                 1\n",
       "trans-female                                        1\n",
       "something kinda male?                               1\n",
       "msle                                                1\n",
       "cis man                                             1\n",
       "male leaning androgynous                            1\n",
       "ostensibly male, unsure what that really means      1\n",
       "neuter                                              1\n",
       "enby                                                1\n",
       "non-binary                                          1\n",
       "cis-female/femme                                    1\n",
       "male-ish                                            1\n",
       "genderqueer                                         1\n",
       "a little about you                                  1\n",
       "cis female                                          1\n",
       "guy (-ish) ^_^                                      1\n",
       "mail                                                1\n",
       "maile                                               1\n",
       "male (cis)                                          1\n",
       "malr                                                1\n",
       "fluid                                               1\n",
       "mal                                                 1\n",
       "queer                                               1\n",
       "femake                                              1\n",
       "agender                                             1\n",
       "trans woman                                         1\n",
       "queer/she/they                                      1\n",
       "all                                                 1\n",
       "female (cis)                                        1\n",
       "androgyne                                           1\n",
       "p                                                   1\n",
       "Name: Gender, dtype: int64"
      ]
     },
     "execution_count": 356,
     "metadata": {
      "tags": []
     },
     "output_type": "execute_result"
    }
   ],
   "source": [
    "df[\"Gender\"] = [x.lower().strip() for x in df[\"Gender\"]]\n",
    "df[\"Gender\"].value_counts()"
   ]
  },
  {
   "cell_type": "code",
   "execution_count": 357,
   "metadata": {
    "id": "50jpebV-3AbY"
   },
   "outputs": [],
   "source": [
    "# others includes transgender, genderfluid, gender-neutral, and all the other gender categories. \n",
    "# Reference to the method to clean data from: https://www.kaggle.com/aishu200023/mental-health-survey-analysis\n",
    "\n",
    "male = [\"male\", \"m\", \"make\", \"cis male\", \"man\", \"malr\", \"male-ish\", \"maile\",\n",
    "        \"mal\", \"male (cis)\", \"mail\", \"msle\", \"cis man\"]\n",
    "female = [\"others\", \"female\", \"f\", \"woman\", \"femail\", \"femake\", \"cis-female/femme\",\n",
    "          \"cis female\", \"female (cis)\"]\n",
    "others = [\"female (trans)\", \"something kinda male?\", \"queer/she/they\", \n",
    "          \"guy (-ish) ^_^\", \"neuter\", \"enby\",\n",
    "          \"ostensibly male, unsure what that really means\",\"genderqueer\",\n",
    "          \"queer\", \"agender\", \"fluid\", \"non-binary\", \"trans woman\",\"all\",\n",
    "          \"trans-female\", \"androgyne\", \"male leaning androgynous\", \"nah\"]\n",
    "drop = [\"p\", \"a little about you\"]\n",
    "\n",
    "df[\"Gender\"] = df[\"Gender\"].apply(lambda x:\"male\" if x in male else x)\n",
    "df[\"Gender\"] = df[\"Gender\"].apply(lambda x:\"female\" if x in female else x)\n",
    "df[\"Gender\"] = df[\"Gender\"].apply(lambda x:\"others\" if x in others else x)\n",
    "df[\"Gender\"] = df[\"Gender\"].apply(lambda x:\"drop\" if x in drop else x)"
   ]
  },
  {
   "cell_type": "code",
   "execution_count": 358,
   "metadata": {
    "colab": {
     "base_uri": "https://localhost:8080/"
    },
    "id": "sbLrJuQC3FKF",
    "outputId": "9f6359be-035e-483d-b171-63330c99c83d"
   },
   "outputs": [
    {
     "data": {
      "text/plain": [
       "male      991\n",
       "female    247\n",
       "others     19\n",
       "drop        2\n",
       "Name: Gender, dtype: int64"
      ]
     },
     "execution_count": 358,
     "metadata": {
      "tags": []
     },
     "output_type": "execute_result"
    }
   ],
   "source": [
    "df[\"Gender\"].value_counts()"
   ]
  },
  {
   "cell_type": "code",
   "execution_count": 359,
   "metadata": {
    "colab": {
     "base_uri": "https://localhost:8080/"
    },
    "id": "pbUlG9nE3J9g",
    "outputId": "879295de-7ba6-4a3e-eb4f-dd9b2db01c00"
   },
   "outputs": [
    {
     "data": {
      "text/plain": [
       "male      991\n",
       "female    247\n",
       "others     19\n",
       "Name: Gender, dtype: int64"
      ]
     },
     "execution_count": 359,
     "metadata": {
      "tags": []
     },
     "output_type": "execute_result"
    }
   ],
   "source": [
    "# Drop unknown gedner records\n",
    "to_drop = [\"drop\"]\n",
    "df = df[~df[\"Gender\"].isin(to_drop)]\n",
    "df[\"Gender\"].value_counts()"
   ]
  },
  {
   "cell_type": "markdown",
   "metadata": {
    "id": "o7T7TpLr3Tw8"
   },
   "source": [
    "## Check Country column"
   ]
  },
  {
   "cell_type": "code",
   "execution_count": 360,
   "metadata": {
    "colab": {
     "base_uri": "https://localhost:8080/"
    },
    "id": "VICq6Pgo3N5R",
    "outputId": "86aad876-6535-4c2d-ea53-1134fd30c832"
   },
   "outputs": [
    {
     "data": {
      "text/plain": [
       "United States             0.597\n",
       "United Kingdom            0.147\n",
       "Canada                    0.057\n",
       "Germany                   0.036\n",
       "Netherlands               0.021\n",
       "Ireland                   0.021\n",
       "Australia                 0.017\n",
       "France                    0.010\n",
       "India                     0.008\n",
       "New Zealand               0.006\n",
       "Switzerland               0.006\n",
       "Sweden                    0.006\n",
       "Poland                    0.006\n",
       "Italy                     0.006\n",
       "Brazil                    0.005\n",
       "South Africa              0.005\n",
       "Belgium                   0.005\n",
       "Israel                    0.004\n",
       "Singapore                 0.003\n",
       "Bulgaria                  0.003\n",
       "Mexico                    0.002\n",
       "Finland                   0.002\n",
       "Russia                    0.002\n",
       "Austria                   0.002\n",
       "Croatia                   0.002\n",
       "Greece                    0.002\n",
       "Denmark                   0.002\n",
       "Colombia                  0.002\n",
       "Portugal                  0.002\n",
       "Hungary                   0.001\n",
       "Spain                     0.001\n",
       "Philippines               0.001\n",
       "Romania                   0.001\n",
       "Georgia                   0.001\n",
       "Japan                     0.001\n",
       "Moldova                   0.001\n",
       "Thailand                  0.001\n",
       "Bosnia and Herzegovina    0.001\n",
       "Latvia                    0.001\n",
       "Norway                    0.001\n",
       "Slovenia                  0.001\n",
       "China                     0.001\n",
       "Czech Republic            0.001\n",
       "Nigeria                   0.001\n",
       "Costa Rica                0.001\n",
       "Zimbabwe                  0.001\n",
       "Uruguay                   0.001\n",
       "Name: Country, dtype: float64"
      ]
     },
     "execution_count": 360,
     "metadata": {
      "tags": []
     },
     "output_type": "execute_result"
    }
   ],
   "source": [
    "# Percentage of each country\n",
    "round(df[\"Country\"].value_counts()/df[\"Country\"].value_counts().sum(),3)"
   ]
  },
  {
   "cell_type": "markdown",
   "metadata": {
    "id": "W_m0FDEo4ISs"
   },
   "source": [
    "**Notes**\n",
    "- USA is the majority in this dataset (consider as our target objective for further EDA)"
   ]
  },
  {
   "cell_type": "markdown",
   "metadata": {
    "id": "c4Rvn92i4Kub"
   },
   "source": [
    "## Visualize Age column"
   ]
  },
  {
   "cell_type": "code",
   "execution_count": 361,
   "metadata": {
    "colab": {
     "base_uri": "https://localhost:8080/",
     "height": 565
    },
    "id": "yaUhC-Wo3XPo",
    "outputId": "1ffe296b-81fb-4d33-eab6-8e8a1bfd8510"
   },
   "outputs": [
    {
     "name": "stderr",
     "output_type": "stream",
     "text": [
      "/usr/local/lib/python3.6/dist-packages/seaborn/_decorators.py:43: FutureWarning: Pass the following variable as a keyword arg: x. From version 0.12, the only valid positional argument will be `data`, and passing other arguments without an explicit keyword will result in an error or misinterpretation.\n",
      "  FutureWarning\n"
     ]
    },
    {
     "data": {
      "text/plain": [
       "<matplotlib.axes._subplots.AxesSubplot at 0x7fef85dc30f0>"
      ]
     },
     "execution_count": 361,
     "metadata": {
      "tags": []
     },
     "output_type": "execute_result"
    },
    {
     "data": {
      "image/png": "[encoded data removed]",
      "text/plain": [
       "<Figure size 1728x576 with 1 Axes>"
      ]
     },
     "metadata": {
      "tags": []
     },
     "output_type": "display_data"
    }
   ],
   "source": [
    "sns.boxplot(df['Age'])"
   ]
  },
  {
   "cell_type": "code",
   "execution_count": 362,
   "metadata": {
    "colab": {
     "base_uri": "https://localhost:8080/"
    },
    "id": "qxhiu93u4MVt",
    "outputId": "6484aedc-270e-44f6-9a61-4ab8b2ba8ac8"
   },
   "outputs": [
    {
     "data": {
      "text/plain": [
       " 29             85\n",
       " 32             82\n",
       " 26             75\n",
       " 27             71\n",
       " 33             70\n",
       " 28             68\n",
       " 31             67\n",
       " 34             65\n",
       " 30             63\n",
       " 25             61\n",
       " 35             55\n",
       " 23             51\n",
       " 24             46\n",
       " 37             43\n",
       " 38             39\n",
       " 36             37\n",
       " 39             33\n",
       " 40             33\n",
       " 43             28\n",
       " 41             21\n",
       " 22             21\n",
       " 42             20\n",
       " 21             16\n",
       " 46             12\n",
       " 45             12\n",
       " 44             11\n",
       " 19              9\n",
       " 18              7\n",
       " 48              6\n",
       " 50              6\n",
       " 20              6\n",
       " 51              5\n",
       " 56              4\n",
       " 49              4\n",
       " 57              3\n",
       " 55              3\n",
       " 54              3\n",
       " 60              2\n",
       " 47              2\n",
       " 11              1\n",
       " 99999999999     1\n",
       "-1726            1\n",
       " 53              1\n",
       " 58              1\n",
       " 61              1\n",
       " 62              1\n",
       " 65              1\n",
       " 72              1\n",
       " 329             1\n",
       "-29              1\n",
       " 5               1\n",
       "Name: Age, dtype: int64"
      ]
     },
     "execution_count": 362,
     "metadata": {
      "tags": []
     },
     "output_type": "execute_result"
    }
   ],
   "source": [
    "df[\"Age\"].value_counts()"
   ]
  },
  {
   "cell_type": "markdown",
   "metadata": {
    "id": "2Kbabo754TOS"
   },
   "source": [
    "**Notes**\n",
    "- Need to remove outlier "
   ]
  },
  {
   "cell_type": "code",
   "execution_count": 363,
   "metadata": {
    "id": "FdfYDl1V4Qpl"
   },
   "outputs": [],
   "source": [
    "# Remove outlier\n",
    "q1 = df[\"Age\"].quantile(0.25)\n",
    "q3 = df[\"Age\"].quantile(0.75)\n",
    "iqr = q3 - q1\n",
    "lower_bound = q1 - 1.5*iqr\n",
    "upper_bound = q3 + 1.5*iqr\n",
    "df = df[(df.Age > lower_bound) & (df.Age < upper_bound)]"
   ]
  },
  {
   "cell_type": "code",
   "execution_count": 364,
   "metadata": {
    "colab": {
     "base_uri": "https://localhost:8080/",
     "height": 565
    },
    "id": "jdK7DNno4Xwt",
    "outputId": "72aa6a2d-b2e7-4c78-af9a-51847e1e09e5"
   },
   "outputs": [
    {
     "name": "stderr",
     "output_type": "stream",
     "text": [
      "/usr/local/lib/python3.6/dist-packages/seaborn/_decorators.py:43: FutureWarning: Pass the following variable as a keyword arg: x. From version 0.12, the only valid positional argument will be `data`, and passing other arguments without an explicit keyword will result in an error or misinterpretation.\n",
      "  FutureWarning\n"
     ]
    },
    {
     "data": {
      "text/plain": [
       "<matplotlib.axes._subplots.AxesSubplot at 0x7fef83b91358>"
      ]
     },
     "execution_count": 364,
     "metadata": {
      "tags": []
     },
     "output_type": "execute_result"
    },
    {
     "data": {
      "image/png": "[encoded data removed]",
      "text/plain": [
       "<Figure size 1728x576 with 1 Axes>"
      ]
     },
     "metadata": {
      "tags": []
     },
     "output_type": "display_data"
    }
   ],
   "source": [
    "sns.boxplot(df['Age'])"
   ]
  },
  {
   "cell_type": "markdown",
   "metadata": {
    "id": "v4IwMkP24cUN"
   },
   "source": [
    "## Drop Timestamp and comments column"
   ]
  },
  {
   "cell_type": "code",
   "execution_count": 365,
   "metadata": {
    "id": "08GX14DD4Zg3"
   },
   "outputs": [],
   "source": [
    "df.drop(columns =[\"Timestamp\", \"comments\"], inplace = True)"
   ]
  },
  {
   "cell_type": "code",
   "execution_count": 366,
   "metadata": {
    "colab": {
     "base_uri": "https://localhost:8080/",
     "height": 213
    },
    "id": "eO4jiggV4e8Z",
    "outputId": "b9c6e972-ebcf-40a3-fb97-078016dd4ddb"
   },
   "outputs": [
    {
     "data": {
      "text/html": [
       "<div>\n",
       "<style scoped>\n",
       "    .dataframe tbody tr th:only-of-type {\n",
       "        vertical-align: middle;\n",
       "    }\n",
       "\n",
       "    .dataframe tbody tr th {\n",
       "        vertical-align: top;\n",
       "    }\n",
       "\n",
       "    .dataframe thead th {\n",
       "        text-align: right;\n",
       "    }\n",
       "</style>\n",
       "<table border=\"1\" class=\"dataframe\">\n",
       "  <thead>\n",
       "    <tr style=\"text-align: right;\">\n",
       "      <th></th>\n",
       "      <th>Age</th>\n",
       "      <th>Gender</th>\n",
       "      <th>Country</th>\n",
       "      <th>state</th>\n",
       "      <th>self_employed</th>\n",
       "      <th>family_history</th>\n",
       "      <th>treatment</th>\n",
       "      <th>work_interfere</th>\n",
       "      <th>no_employees</th>\n",
       "      <th>remote_work</th>\n",
       "      <th>tech_company</th>\n",
       "      <th>benefits</th>\n",
       "      <th>care_options</th>\n",
       "      <th>wellness_program</th>\n",
       "      <th>seek_help</th>\n",
       "      <th>anonymity</th>\n",
       "      <th>leave</th>\n",
       "      <th>mental_health_consequence</th>\n",
       "      <th>phys_health_consequence</th>\n",
       "      <th>coworkers</th>\n",
       "      <th>supervisor</th>\n",
       "      <th>mental_health_interview</th>\n",
       "      <th>phys_health_interview</th>\n",
       "      <th>mental_vs_physical</th>\n",
       "      <th>obs_consequence</th>\n",
       "    </tr>\n",
       "  </thead>\n",
       "  <tbody>\n",
       "    <tr>\n",
       "      <th>0</th>\n",
       "      <td>37</td>\n",
       "      <td>female</td>\n",
       "      <td>United States</td>\n",
       "      <td>IL</td>\n",
       "      <td>NaN</td>\n",
       "      <td>No</td>\n",
       "      <td>Yes</td>\n",
       "      <td>Often</td>\n",
       "      <td>6-25</td>\n",
       "      <td>No</td>\n",
       "      <td>Yes</td>\n",
       "      <td>Yes</td>\n",
       "      <td>Not sure</td>\n",
       "      <td>No</td>\n",
       "      <td>Yes</td>\n",
       "      <td>Yes</td>\n",
       "      <td>Somewhat easy</td>\n",
       "      <td>No</td>\n",
       "      <td>No</td>\n",
       "      <td>Some of them</td>\n",
       "      <td>Yes</td>\n",
       "      <td>No</td>\n",
       "      <td>Maybe</td>\n",
       "      <td>Yes</td>\n",
       "      <td>No</td>\n",
       "    </tr>\n",
       "    <tr>\n",
       "      <th>1</th>\n",
       "      <td>44</td>\n",
       "      <td>male</td>\n",
       "      <td>United States</td>\n",
       "      <td>IN</td>\n",
       "      <td>NaN</td>\n",
       "      <td>No</td>\n",
       "      <td>No</td>\n",
       "      <td>Rarely</td>\n",
       "      <td>More than 1000</td>\n",
       "      <td>No</td>\n",
       "      <td>No</td>\n",
       "      <td>Don't know</td>\n",
       "      <td>No</td>\n",
       "      <td>Don't know</td>\n",
       "      <td>Don't know</td>\n",
       "      <td>Don't know</td>\n",
       "      <td>Don't know</td>\n",
       "      <td>Maybe</td>\n",
       "      <td>No</td>\n",
       "      <td>No</td>\n",
       "      <td>No</td>\n",
       "      <td>No</td>\n",
       "      <td>No</td>\n",
       "      <td>Don't know</td>\n",
       "      <td>No</td>\n",
       "    </tr>\n",
       "    <tr>\n",
       "      <th>2</th>\n",
       "      <td>32</td>\n",
       "      <td>male</td>\n",
       "      <td>Canada</td>\n",
       "      <td>NaN</td>\n",
       "      <td>NaN</td>\n",
       "      <td>No</td>\n",
       "      <td>No</td>\n",
       "      <td>Rarely</td>\n",
       "      <td>6-25</td>\n",
       "      <td>No</td>\n",
       "      <td>Yes</td>\n",
       "      <td>No</td>\n",
       "      <td>No</td>\n",
       "      <td>No</td>\n",
       "      <td>No</td>\n",
       "      <td>Don't know</td>\n",
       "      <td>Somewhat difficult</td>\n",
       "      <td>No</td>\n",
       "      <td>No</td>\n",
       "      <td>Yes</td>\n",
       "      <td>Yes</td>\n",
       "      <td>Yes</td>\n",
       "      <td>Yes</td>\n",
       "      <td>No</td>\n",
       "      <td>No</td>\n",
       "    </tr>\n",
       "  </tbody>\n",
       "</table>\n",
       "</div>"
      ],
      "text/plain": [
       "   Age  Gender  ... mental_vs_physical obs_consequence\n",
       "0   37  female  ...                Yes              No\n",
       "1   44    male  ...         Don't know              No\n",
       "2   32    male  ...                 No              No\n",
       "\n",
       "[3 rows x 25 columns]"
      ]
     },
     "execution_count": 366,
     "metadata": {
      "tags": []
     },
     "output_type": "execute_result"
    }
   ],
   "source": [
    "df.head(3)"
   ]
  },
  {
   "cell_type": "markdown",
   "metadata": {
    "id": "rN4OJREL4jVg"
   },
   "source": [
    "## Deal with columns which includes null value (state, self_employed, and work_interfere)"
   ]
  },
  {
   "cell_type": "code",
   "execution_count": 367,
   "metadata": {
    "colab": {
     "base_uri": "https://localhost:8080/"
    },
    "id": "9Xfk-6Dd4gbs",
    "outputId": "aad17140-55dc-476e-d906-2f5096752578"
   },
   "outputs": [
    {
     "data": {
      "text/plain": [
       "array(['IL', 'IN', nan, 'TX', 'TN', 'MI', 'OH', 'CA', 'CT', 'MD', 'NY',\n",
       "       'NC', 'MA', 'IA', 'PA', 'WA', 'WI', 'UT', 'NM', 'OR', 'FL', 'MN',\n",
       "       'MO', 'AZ', 'CO', 'GA', 'DC', 'NE', 'WV', 'OK', 'KS', 'VA', 'NH',\n",
       "       'KY', 'AL', 'NV', 'NJ', 'SC', 'VT', 'SD', 'MS', 'RI', 'WY', 'LA',\n",
       "       'ME'], dtype=object)"
      ]
     },
     "execution_count": 367,
     "metadata": {
      "tags": []
     },
     "output_type": "execute_result"
    }
   ],
   "source": [
    "df[\"state\"].unique()"
   ]
  },
  {
   "cell_type": "code",
   "execution_count": 368,
   "metadata": {
    "colab": {
     "base_uri": "https://localhost:8080/"
    },
    "id": "XKjetqmj4me6",
    "outputId": "146f376b-f7a6-49c8-84a6-42dc3742f7a1"
   },
   "outputs": [
    {
     "data": {
      "text/plain": [
       "9"
      ]
     },
     "execution_count": 368,
     "metadata": {
      "tags": []
     },
     "output_type": "execute_result"
    }
   ],
   "source": [
    "df[df.Country == \"United States\"].state.isnull().sum()"
   ]
  },
  {
   "cell_type": "code",
   "execution_count": 369,
   "metadata": {
    "id": "RkBEXtiV4oVk"
   },
   "outputs": [],
   "source": [
    "df[\"state\"] = df[\"state\"].fillna(\"Unknown\")"
   ]
  },
  {
   "cell_type": "markdown",
   "metadata": {
    "id": "vvGd5SpT4siY"
   },
   "source": [
    "**Notes**\n",
    "- Other countries do not have state (reasonable)"
   ]
  },
  {
   "cell_type": "code",
   "execution_count": 370,
   "metadata": {
    "colab": {
     "base_uri": "https://localhost:8080/"
    },
    "id": "Vf6ZbMO64qAS",
    "outputId": "cb3fd1d6-92fd-4bd1-cc13-735b1bca7bbb"
   },
   "outputs": [
    {
     "data": {
      "text/plain": [
       "array([nan, 'Yes', 'No'], dtype=object)"
      ]
     },
     "execution_count": 370,
     "metadata": {
      "tags": []
     },
     "output_type": "execute_result"
    }
   ],
   "source": [
    "df[\"self_employed\"].unique()"
   ]
  },
  {
   "cell_type": "code",
   "execution_count": 371,
   "metadata": {
    "id": "RxlxfFTO4vEc"
   },
   "outputs": [],
   "source": [
    "df[\"self_employed\"] = df[\"self_employed\"].fillna(\"Unknown\")"
   ]
  },
  {
   "cell_type": "code",
   "execution_count": 372,
   "metadata": {
    "colab": {
     "base_uri": "https://localhost:8080/"
    },
    "id": "63HVZlrY4xVR",
    "outputId": "1a962879-1621-488c-8be4-2139218817c1"
   },
   "outputs": [
    {
     "data": {
      "text/plain": [
       "array(['Unknown', 'Yes', 'No'], dtype=object)"
      ]
     },
     "execution_count": 372,
     "metadata": {
      "tags": []
     },
     "output_type": "execute_result"
    }
   ],
   "source": [
    "df[\"self_employed\"].unique()"
   ]
  },
  {
   "cell_type": "code",
   "execution_count": 373,
   "metadata": {
    "colab": {
     "base_uri": "https://localhost:8080/"
    },
    "id": "DOq3su4E4zKv",
    "outputId": "0c328fcc-f3b8-4d00-d203-c0c8376c1fe0"
   },
   "outputs": [
    {
     "data": {
      "text/plain": [
       "array(['Often', 'Rarely', 'Never', 'Sometimes', nan], dtype=object)"
      ]
     },
     "execution_count": 373,
     "metadata": {
      "tags": []
     },
     "output_type": "execute_result"
    }
   ],
   "source": [
    "df[\"work_interfere\"].unique()"
   ]
  },
  {
   "cell_type": "code",
   "execution_count": 374,
   "metadata": {
    "id": "twjMT_lv41Cc"
   },
   "outputs": [],
   "source": [
    "df[\"work_interfere\"] = df[\"work_interfere\"].fillna(\"No_answer\")"
   ]
  },
  {
   "cell_type": "code",
   "execution_count": 375,
   "metadata": {
    "colab": {
     "base_uri": "https://localhost:8080/"
    },
    "id": "VH9KOMPH42hi",
    "outputId": "02b69494-39ba-4dde-ce4c-39c06ef9c7fa"
   },
   "outputs": [
    {
     "data": {
      "text/plain": [
       "array(['Often', 'Rarely', 'Never', 'Sometimes', 'No_answer'], dtype=object)"
      ]
     },
     "execution_count": 375,
     "metadata": {
      "tags": []
     },
     "output_type": "execute_result"
    }
   ],
   "source": [
    "df[\"work_interfere\"].unique()"
   ]
  },
  {
   "cell_type": "code",
   "execution_count": 376,
   "metadata": {
    "colab": {
     "base_uri": "https://localhost:8080/"
    },
    "id": "96Yr7dVB44Gz",
    "outputId": "efe90b28-0af4-4ce7-fcec-10b70d1a4ddc"
   },
   "outputs": [
    {
     "data": {
      "text/plain": [
       "Age                          0\n",
       "Gender                       0\n",
       "Country                      0\n",
       "state                        0\n",
       "self_employed                0\n",
       "family_history               0\n",
       "treatment                    0\n",
       "work_interfere               0\n",
       "no_employees                 0\n",
       "remote_work                  0\n",
       "tech_company                 0\n",
       "benefits                     0\n",
       "care_options                 0\n",
       "wellness_program             0\n",
       "seek_help                    0\n",
       "anonymity                    0\n",
       "leave                        0\n",
       "mental_health_consequence    0\n",
       "phys_health_consequence      0\n",
       "coworkers                    0\n",
       "supervisor                   0\n",
       "mental_health_interview      0\n",
       "phys_health_interview        0\n",
       "mental_vs_physical           0\n",
       "obs_consequence              0\n",
       "dtype: int64"
      ]
     },
     "execution_count": 376,
     "metadata": {
      "tags": []
     },
     "output_type": "execute_result"
    }
   ],
   "source": [
    "# Check all the null value have been cleaned\n",
    "df.isnull().sum()"
   ]
  },
  {
   "cell_type": "markdown",
   "metadata": {
    "id": "7wuE-_OQ5K_X"
   },
   "source": [
    "# Exploratory Data Analysis"
   ]
  },
  {
   "cell_type": "markdown",
   "metadata": {
    "id": "pxJxJtVq8rg3"
   },
   "source": [
    "### Defined Scope: Focus on United States sub-dataset"
   ]
  },
  {
   "cell_type": "code",
   "execution_count": 377,
   "metadata": {
    "id": "BO1j5jUF45jx"
   },
   "outputs": [],
   "source": [
    "df_USA = df[df[\"Country\"] == \"United States\"]"
   ]
  },
  {
   "cell_type": "code",
   "execution_count": 378,
   "metadata": {
    "colab": {
     "base_uri": "https://localhost:8080/"
    },
    "id": "__6qDAXc8uOs",
    "outputId": "75da6c88-c5c9-4016-8661-05ab6b48b167"
   },
   "outputs": [
    {
     "data": {
      "text/plain": [
       "(721, 25)"
      ]
     },
     "execution_count": 378,
     "metadata": {
      "tags": []
     },
     "output_type": "execute_result"
    }
   ],
   "source": [
    "df_USA.shape"
   ]
  },
  {
   "cell_type": "markdown",
   "metadata": {
    "id": "cqyATlBt8zT8"
   },
   "source": [
    "- Total 721 records"
   ]
  },
  {
   "cell_type": "markdown",
   "metadata": {
    "id": "Fl0dp939UJ8z"
   },
   "source": [
    "### State column"
   ]
  },
  {
   "cell_type": "code",
   "execution_count": 379,
   "metadata": {
    "colab": {
     "base_uri": "https://localhost:8080/",
     "height": 479
    },
    "id": "79KJM_se8vck",
    "outputId": "cb635cde-44b6-442c-fe10-580553038fa9"
   },
   "outputs": [
    {
     "data": {
      "image/png": "[encoded data removed]",
      "text/plain": [
       "<Figure size 1728x576 with 1 Axes>"
      ]
     },
     "metadata": {
      "tags": []
     },
     "output_type": "display_data"
    }
   ],
   "source": [
    "# Visualize states percentage\n",
    "state_data = df_USA[\"state\"].value_counts() / df_USA[\"state\"].value_counts().sum()\n",
    "ax = sns.barplot(x = state_data.index, y = state_data.values)\n",
    "ax.yaxis.set_major_formatter(mticker.PercentFormatter(xmax=1, symbol = \"%\"))"
   ]
  },
  {
   "cell_type": "markdown",
   "metadata": {
    "id": "zFxE9TJR8_dT"
   },
   "source": [
    "- In this survey, CA has the major records (>17.5%), followed by WA(\\~10%), NY(\\~7.5%), TN(\\~6%), TX(\\~6%)..."
   ]
  },
  {
   "cell_type": "markdown",
   "metadata": {
    "id": "IfIj4B4_UMXK"
   },
   "source": [
    "### Age column"
   ]
  },
  {
   "cell_type": "code",
   "execution_count": 380,
   "metadata": {
    "colab": {
     "base_uri": "https://localhost:8080/",
     "height": 511
    },
    "id": "0-UVY3vn81dL",
    "outputId": "751d163d-8352-4f59-edd4-fd0619198e5f"
   },
   "outputs": [
    {
     "data": {
      "text/plain": [
       "<matplotlib.axes._subplots.AxesSubplot at 0x7fef85ad2b38>"
      ]
     },
     "execution_count": 380,
     "metadata": {
      "tags": []
     },
     "output_type": "execute_result"
    },
    {
     "data": {
      "image/png": "[encoded data removed]",
      "text/plain": [
       "<Figure size 1728x576 with 1 Axes>"
      ]
     },
     "metadata": {
      "tags": []
     },
     "output_type": "display_data"
    }
   ],
   "source": [
    "sns.histplot(data = df_USA, x=\"Age\", kde = True)"
   ]
  },
  {
   "cell_type": "code",
   "execution_count": 381,
   "metadata": {
    "colab": {
     "base_uri": "https://localhost:8080/"
    },
    "id": "-OAjBfpyDqEE",
    "outputId": "6d216229-d19f-4bfb-f263-bd43b8210bd2"
   },
   "outputs": [
    {
     "data": {
      "text/plain": [
       "count    721.000000\n",
       "mean      32.348128\n",
       "std        6.427115\n",
       "min       18.000000\n",
       "25%       27.000000\n",
       "50%       32.000000\n",
       "75%       37.000000\n",
       "max       49.000000\n",
       "Name: Age, dtype: float64"
      ]
     },
     "execution_count": 381,
     "metadata": {
      "tags": []
     },
     "output_type": "execute_result"
    }
   ],
   "source": [
    "df_USA[\"Age\"].describe()"
   ]
  },
  {
   "cell_type": "markdown",
   "metadata": {
    "id": "rrhA1dKoDt37"
   },
   "source": [
    "- In this survey, if we remove the outlier, we have age range from 18 to 49 with mean age 32."
   ]
  },
  {
   "cell_type": "markdown",
   "metadata": {
    "id": "YaAFZbxaUPC3"
   },
   "source": [
    "### Gender column"
   ]
  },
  {
   "cell_type": "code",
   "execution_count": 382,
   "metadata": {
    "colab": {
     "base_uri": "https://localhost:8080/"
    },
    "id": "VXqz8O4FDTzN",
    "outputId": "43c02d03-29e6-4d3e-9a4f-75e5b142d842"
   },
   "outputs": [
    {
     "data": {
      "text/plain": [
       "male      0.742\n",
       "female    0.247\n",
       "others    0.011\n",
       "Name: Gender, dtype: float64"
      ]
     },
     "execution_count": 382,
     "metadata": {
      "tags": []
     },
     "output_type": "execute_result"
    }
   ],
   "source": [
    "round(df_USA[\"Gender\"].value_counts()/df_USA[\"Gender\"].value_counts().sum(),3)"
   ]
  },
  {
   "cell_type": "markdown",
   "metadata": {
    "id": "4jW38JokUT1R"
   },
   "source": [
    "- Gender is inbalance in this survey\n",
    "- Male 74.2% ; Female 24.7% ; Other_Gender 1.1%"
   ]
  },
  {
   "cell_type": "markdown",
   "metadata": {
    "id": "sfAUMhkcUXxM"
   },
   "source": [
    "### Gender & Age column"
   ]
  },
  {
   "cell_type": "code",
   "execution_count": 383,
   "metadata": {
    "colab": {
     "base_uri": "https://localhost:8080/",
     "height": 495
    },
    "id": "hEkQYlAjUFli",
    "outputId": "95926a05-6c05-45e7-9d44-4138b7910b0d"
   },
   "outputs": [
    {
     "data": {
      "image/png": "[encoded data removed]",
      "text/plain": [
       "<Figure size 1728x576 with 1 Axes>"
      ]
     },
     "metadata": {
      "tags": []
     },
     "output_type": "display_data"
    }
   ],
   "source": [
    "ax = sns.violinplot(x=\"Gender\", y = \"Age\", data = df_USA)"
   ]
  },
  {
   "cell_type": "code",
   "execution_count": 384,
   "metadata": {
    "colab": {
     "base_uri": "https://localhost:8080/",
     "height": 511
    },
    "id": "C6kaHLhAUWWr",
    "outputId": "8515fc40-2e4c-425e-ea13-e72080d4861a"
   },
   "outputs": [
    {
     "data": {
      "text/plain": [
       "<matplotlib.axes._subplots.AxesSubplot at 0x7fef862d10f0>"
      ]
     },
     "execution_count": 384,
     "metadata": {
      "tags": []
     },
     "output_type": "execute_result"
    },
    {
     "data": {
      "image/png": "[encoded data removed]",
      "text/plain": [
       "<Figure size 1728x576 with 1 Axes>"
      ]
     },
     "metadata": {
      "tags": []
     },
     "output_type": "display_data"
    }
   ],
   "source": [
    "sns.boxplot(x=\"Gender\", y = \"Age\", data=df_USA)"
   ]
  },
  {
   "cell_type": "markdown",
   "metadata": {
    "id": "HfyePnMKWTcZ"
   },
   "source": [
    "- In this survey, other gender has high dispersion of age than female and male. Also the median age of other gender is lower than the other two.\n"
   ]
  },
  {
   "cell_type": "code",
   "execution_count": 385,
   "metadata": {
    "id": "jP6EhscgUbR3"
   },
   "outputs": [],
   "source": [
    "# Define function which generate the percentage of counts of one column\n",
    "def column_perc(column):\n",
    "    print(round(df_USA[column].value_counts()/df_USA[column].value_counts().sum(),3)*100)\n",
    "\n",
    "# Define function which generate percentage table \n",
    "def generate_perc_table(group1, group2):\n",
    "    count = df_USA.groupby([group1, group2]).agg({group2:\"count\"})\n",
    "    perc = count.groupby(level=0).apply(lambda x:round(100*x/x.sum(),2))\n",
    "    print(perc)"
   ]
  },
  {
   "cell_type": "code",
   "execution_count": 386,
   "metadata": {
    "colab": {
     "base_uri": "https://localhost:8080/"
    },
    "id": "OWImMc3wXaV2",
    "outputId": "667e8cce-8683-47ae-85be-37eb02bb651a"
   },
   "outputs": [
    {
     "name": "stdout",
     "output_type": "stream",
     "text": [
      "29    6.9\n",
      "33    6.4\n",
      "32    6.1\n",
      "35    5.7\n",
      "31    5.7\n",
      "25    5.4\n",
      "26    5.1\n",
      "30    5.1\n",
      "27    4.7\n",
      "28    4.7\n",
      "34    4.6\n",
      "36    3.9\n",
      "40    3.9\n",
      "23    3.7\n",
      "38    3.5\n",
      "24    3.3\n",
      "37    2.9\n",
      "43    2.8\n",
      "39    2.6\n",
      "41    2.2\n",
      "42    2.1\n",
      "46    1.7\n",
      "22    1.2\n",
      "44    1.2\n",
      "45    1.2\n",
      "21    1.0\n",
      "48    0.6\n",
      "49    0.4\n",
      "18    0.4\n",
      "47    0.3\n",
      "20    0.3\n",
      "19    0.3\n",
      "Name: Age, dtype: float64\n",
      "male      74.2\n",
      "female    24.7\n",
      "others     1.1\n",
      "Name: Gender, dtype: float64\n",
      "United States    100.0\n",
      "Name: Country, dtype: float64\n",
      "CA         17.9\n",
      "WA          9.7\n",
      "NY          7.8\n",
      "TX          6.1\n",
      "TN          6.1\n",
      "PA          3.9\n",
      "IL          3.9\n",
      "OH          3.7\n",
      "OR          3.6\n",
      "IN          3.5\n",
      "MI          3.1\n",
      "MA          2.6\n",
      "MN          2.6\n",
      "FL          1.9\n",
      "NC          1.9\n",
      "VA          1.8\n",
      "GA          1.7\n",
      "MO          1.7\n",
      "WI          1.7\n",
      "UT          1.4\n",
      "Unknown     1.2\n",
      "CO          1.1\n",
      "AZ          1.0\n",
      "MD          1.0\n",
      "AL          1.0\n",
      "NJ          0.8\n",
      "OK          0.8\n",
      "SC          0.7\n",
      "KY          0.7\n",
      "DC          0.6\n",
      "IA          0.6\n",
      "CT          0.6\n",
      "NV          0.4\n",
      "KS          0.4\n",
      "VT          0.4\n",
      "NH          0.4\n",
      "SD          0.4\n",
      "NE          0.3\n",
      "NM          0.3\n",
      "WY          0.1\n",
      "WV          0.1\n",
      "LA          0.1\n",
      "ME          0.1\n",
      "MS          0.1\n",
      "RI          0.1\n",
      "Name: state, dtype: float64\n",
      "No         91.5\n",
      "Yes         6.9\n",
      "Unknown     1.5\n",
      "Name: self_employed, dtype: float64\n",
      "No     55.3\n",
      "Yes    44.7\n",
      "Name: family_history, dtype: float64\n",
      "Yes    54.9\n",
      "No     45.1\n",
      "Name: treatment, dtype: float64\n",
      "Sometimes    39.7\n",
      "No_answer    19.0\n",
      "Never        16.0\n",
      "Rarely       14.4\n",
      "Often        11.0\n",
      "Name: work_interfere, dtype: float64\n",
      "More than 1000    28.3\n",
      "26-100            23.3\n",
      "6-25              18.0\n",
      "100-500           15.1\n",
      "1-5                9.6\n",
      "500-1000           5.7\n",
      "Name: no_employees, dtype: float64\n",
      "No     69.2\n",
      "Yes    30.8\n",
      "Name: remote_work, dtype: float64\n",
      "Yes    81.1\n",
      "No     18.9\n",
      "Name: tech_company, dtype: float64\n",
      "Yes           52.8\n",
      "Don't know    31.8\n",
      "No            15.4\n",
      "Name: benefits, dtype: float64\n",
      "Yes         40.8\n",
      "No          32.2\n",
      "Not sure    27.0\n",
      "Name: care_options, dtype: float64\n",
      "No            60.9\n",
      "Yes           22.2\n",
      "Don't know    16.9\n",
      "Name: wellness_program, dtype: float64\n",
      "No            40.4\n",
      "Don't know    35.2\n",
      "Yes           24.4\n",
      "Name: seek_help, dtype: float64\n",
      "Don't know    65.7\n",
      "Yes           31.6\n",
      "No             2.6\n",
      "Name: anonymity, dtype: float64\n",
      "Don't know            51.2\n",
      "Somewhat easy         18.2\n",
      "Very easy             14.3\n",
      "Somewhat difficult     9.0\n",
      "Very difficult         7.4\n",
      "Name: leave, dtype: float64\n",
      "Maybe    40.2\n",
      "No       36.8\n",
      "Yes      23.0\n",
      "Name: mental_health_consequence, dtype: float64\n",
      "No       76.6\n",
      "Maybe    19.4\n",
      "Yes       4.0\n",
      "Name: phys_health_consequence, dtype: float64\n",
      "Some of them    62.8\n",
      "No              20.8\n",
      "Yes             16.4\n",
      "Name: coworkers, dtype: float64\n",
      "Yes             39.9\n",
      "No              31.8\n",
      "Some of them    28.3\n",
      "Name: supervisor, dtype: float64\n",
      "No       84.7\n",
      "Maybe    13.3\n",
      "Yes       1.9\n",
      "Name: mental_health_interview, dtype: float64\n",
      "No       45.2\n",
      "Maybe    42.4\n",
      "Yes      12.3\n",
      "Name: phys_health_interview, dtype: float64\n",
      "Don't know    48.3\n",
      "Yes           26.4\n",
      "No            25.4\n",
      "Name: mental_vs_physical, dtype: float64\n",
      "No     88.2\n",
      "Yes    11.8\n",
      "Name: obs_consequence, dtype: float64\n"
     ]
    }
   ],
   "source": [
    "# Knowing the percentage for each column\n",
    "for i in df_USA.columns:\n",
    "    column_perc(i)"
   ]
  },
  {
   "cell_type": "markdown",
   "metadata": {
    "id": "YPbMLxTxXjRQ"
   },
   "source": [
    "- Based on above percentage data, we could know the percentage of responds with respect to each survey question. \n",
    "- For example, in \"family_histroy\" column (which indicates the survey question: Do you have a family history of mental illness?), there are 44.7% respondents said Yes; and 55.3% respondents said No."
   ]
  },
  {
   "cell_type": "markdown",
   "metadata": {
    "id": "S0Ja-kNFZsh5"
   },
   "source": [
    "### Treatment related inference\n",
    "- treatment YES: People have been sought for mental treatment before.\n",
    "- treatment NO: People have never sought for mental treatment before."
   ]
  },
  {
   "cell_type": "code",
   "execution_count": 387,
   "metadata": {
    "colab": {
     "base_uri": "https://localhost:8080/",
     "height": 1000
    },
    "id": "FU0qowUEXgwz",
    "outputId": "50b3ff27-6687-43f8-81c2-46c1edcb6185"
   },
   "outputs": [
    {
     "name": "stderr",
     "output_type": "stream",
     "text": [
      "/usr/local/lib/python3.6/dist-packages/ipykernel_launcher.py:2: RuntimeWarning: More than 20 figures have been opened. Figures created through the pyplot interface (`matplotlib.pyplot.figure`) are retained until explicitly closed and may consume too much memory. (To control this warning, see the rcParam `figure.max_open_warning`).\n",
      "  \n",
      "/usr/local/lib/python3.6/dist-packages/ipykernel_launcher.py:2: RuntimeWarning: More than 20 figures have been opened. Figures created through the pyplot interface (`matplotlib.pyplot.figure`) are retained until explicitly closed and may consume too much memory. (To control this warning, see the rcParam `figure.max_open_warning`).\n",
      "  \n",
      "/usr/local/lib/python3.6/dist-packages/ipykernel_launcher.py:2: RuntimeWarning: More than 20 figures have been opened. Figures created through the pyplot interface (`matplotlib.pyplot.figure`) are retained until explicitly closed and may consume too much memory. (To control this warning, see the rcParam `figure.max_open_warning`).\n",
      "  \n",
      "/usr/local/lib/python3.6/dist-packages/ipykernel_launcher.py:2: RuntimeWarning: More than 20 figures have been opened. Figures created through the pyplot interface (`matplotlib.pyplot.figure`) are retained until explicitly closed and may consume too much memory. (To control this warning, see the rcParam `figure.max_open_warning`).\n",
      "  \n",
      "/usr/local/lib/python3.6/dist-packages/ipykernel_launcher.py:2: RuntimeWarning: More than 20 figures have been opened. Figures created through the pyplot interface (`matplotlib.pyplot.figure`) are retained until explicitly closed and may consume too much memory. (To control this warning, see the rcParam `figure.max_open_warning`).\n",
      "  \n"
     ]
    },
    {
     "data": {
      "image/png": "[encoded data removed]",
      "text/plain": [
       "<Figure size 1728x576 with 1 Axes>"
      ]
     },
     "metadata": {
      "tags": []
     },
     "output_type": "display_data"
    },
    {
     "data": {
      "image/png": "[encoded data removed]",
      "text/plain": [
       "<Figure size 1728x576 with 1 Axes>"
      ]
     },
     "metadata": {
      "tags": []
     },
     "output_type": "display_data"
    },
    {
     "data": {
      "image/png": "[encoded data removed]",
      "text/plain": [
       "<Figure size 1728x576 with 1 Axes>"
      ]
     },
     "metadata": {
      "tags": []
     },
     "output_type": "display_data"
    },
    {
     "data": {
      "image/png": "[encoded data removed]",
      "text/plain": [
       "<Figure size 1728x576 with 1 Axes>"
      ]
     },
     "metadata": {
      "tags": []
     },
     "output_type": "display_data"
    },
    {
     "data": {
      "image/png": "[encoded data removed]",
      "text/plain": [
       "<Figure size 1728x576 with 1 Axes>"
      ]
     },
     "metadata": {
      "tags": []
     },
     "output_type": "display_data"
    },
    {
     "data": {
      "image/png": "[encoded data removed]",
      "text/plain": [
       "<Figure size 1728x576 with 1 Axes>"
      ]
     },
     "metadata": {
      "tags": []
     },
     "output_type": "display_data"
    },
    {
     "data": {
      "image/png": "[encoded data removed]",
      "text/plain": [
       "<Figure size 1728x576 with 1 Axes>"
      ]
     },
     "metadata": {
      "tags": []
     },
     "output_type": "display_data"
    },
    {
     "data": {
      "image/png": "[encoded data removed]",
      "text/plain": [
       "<Figure size 1728x576 with 1 Axes>"
      ]
     },
     "metadata": {
      "tags": []
     },
     "output_type": "display_data"
    },
    {
     "data": {
      "image/png": "[encoded data removed]",
      "text/plain": [
       "<Figure size 1728x576 with 1 Axes>"
      ]
     },
     "metadata": {
      "tags": []
     },
     "output_type": "display_data"
    },
    {
     "data": {
      "image/png": "[encoded data removed]",
      "text/plain": [
       "<Figure size 1728x576 with 1 Axes>"
      ]
     },
     "metadata": {
      "tags": []
     },
     "output_type": "display_data"
    },
    {
     "data": {
      "image/png": "[encoded data removed]",
      "text/plain": [
       "<Figure size 1728x576 with 1 Axes>"
      ]
     },
     "metadata": {
      "tags": []
     },
     "output_type": "display_data"
    },
    {
     "data": {
      "image/png": "[encoded data removed]",
      "text/plain": [
       "<Figure size 1728x576 with 1 Axes>"
      ]
     },
     "metadata": {
      "tags": []
     },
     "output_type": "display_data"
    },
    {
     "data": {
      "image/png": "[encoded data removed]",
      "text/plain": [
       "<Figure size 1728x576 with 1 Axes>"
      ]
     },
     "metadata": {
      "tags": []
     },
     "output_type": "display_data"
    },
    {
     "data": {
      "image/png": "[encoded data removed]",
      "text/plain": [
       "<Figure size 1728x576 with 1 Axes>"
      ]
     },
     "metadata": {
      "tags": []
     },
     "output_type": "display_data"
    },
    {
     "data": {
      "image/png": "[encoded data removed]",
      "text/plain": [
       "<Figure size 1728x576 with 1 Axes>"
      ]
     },
     "metadata": {
      "tags": []
     },
     "output_type": "display_data"
    },
    {
     "data": {
      "image/png": "[encoded data removed]",
      "text/plain": [
       "<Figure size 1728x576 with 1 Axes>"
      ]
     },
     "metadata": {
      "tags": []
     },
     "output_type": "display_data"
    },
    {
     "data": {
      "image/png": "[encoded data removed]",
      "text/plain": [
       "<Figure size 1728x576 with 1 Axes>"
      ]
     },
     "metadata": {
      "tags": []
     },
     "output_type": "display_data"
    },
    {
     "data": {
      "image/png": "[encoded data removed]",
      "text/plain": [
       "<Figure size 1728x576 with 1 Axes>"
      ]
     },
     "metadata": {
      "tags": []
     },
     "output_type": "display_data"
    },
    {
     "data": {
      "image/png": "[encoded data removed]",
      "text/plain": [
       "<Figure size 1728x576 with 1 Axes>"
      ]
     },
     "metadata": {
      "tags": []
     },
     "output_type": "display_data"
    },
    {
     "data": {
      "image/png": "[encoded data removed]",
      "text/plain": [
       "<Figure size 1728x576 with 1 Axes>"
      ]
     },
     "metadata": {
      "tags": []
     },
     "output_type": "display_data"
    },
    {
     "data": {
      "image/png": "[encoded data removed]",
      "text/plain": [
       "<Figure size 1728x576 with 1 Axes>"
      ]
     },
     "metadata": {
      "tags": []
     },
     "output_type": "display_data"
    },
    {
     "data": {
      "image/png": "[encoded data removed]",
      "text/plain": [
       "<Figure size 1728x576 with 1 Axes>"
      ]
     },
     "metadata": {
      "tags": []
     },
     "output_type": "display_data"
    },
    {
     "data": {
      "image/png": "[encoded data removed]",
      "text/plain": [
       "<Figure size 1728x576 with 1 Axes>"
      ]
     },
     "metadata": {
      "tags": []
     },
     "output_type": "display_data"
    },
    {
     "data": {
      "image/png": "[encoded data removed]",
      "text/plain": [
       "<Figure size 1728x576 with 1 Axes>"
      ]
     },
     "metadata": {
      "tags": []
     },
     "output_type": "display_data"
    },
    {
     "data": {
      "image/png": "[encoded data removed]",
      "text/plain": [
       "<Figure size 1728x576 with 1 Axes>"
      ]
     },
     "metadata": {
      "tags": []
     },
     "output_type": "display_data"
    }
   ],
   "source": [
    "for i in df_USA.columns:\n",
    "    plt.figure()\n",
    "    sns.countplot(data = df_USA, x = i, hue = \"treatment\")"
   ]
  },
  {
   "cell_type": "code",
   "execution_count": 388,
   "metadata": {
    "colab": {
     "base_uri": "https://localhost:8080/"
    },
    "id": "qYKjjf7bZpsh",
    "outputId": "238954b5-aada-48f2-9833-3f65cb21eeab"
   },
   "outputs": [
    {
     "name": "stdout",
     "output_type": "stream",
     "text": [
      "               treatment\n",
      "Age treatment           \n",
      "18  No             33.33\n",
      "    Yes            66.67\n",
      "19  No             50.00\n",
      "    Yes            50.00\n",
      "20  No             50.00\n",
      "...                  ...\n",
      "47  Yes            50.00\n",
      "48  No             75.00\n",
      "    Yes            25.00\n",
      "49  No             33.33\n",
      "    Yes            66.67\n",
      "\n",
      "[64 rows x 1 columns]\n",
      "                  treatment\n",
      "Gender treatment           \n",
      "female No             28.65\n",
      "       Yes            71.35\n",
      "male   No             50.84\n",
      "       Yes            49.16\n",
      "others No             25.00\n",
      "       Yes            75.00\n",
      "                         treatment\n",
      "Country       treatment           \n",
      "United States No             45.08\n",
      "              Yes            54.92\n",
      "                 treatment\n",
      "state treatment           \n",
      "AL    No             14.29\n",
      "      Yes            85.71\n",
      "AZ    No             14.29\n",
      "      Yes            85.71\n",
      "CA    No             37.98\n",
      "...                    ...\n",
      "WA    Yes            58.57\n",
      "WI    No             25.00\n",
      "      Yes            75.00\n",
      "WV    No            100.00\n",
      "WY    Yes           100.00\n",
      "\n",
      "[81 rows x 1 columns]\n",
      "                         treatment\n",
      "self_employed treatment           \n",
      "No            No             45.61\n",
      "              Yes            54.39\n",
      "Unknown       No             36.36\n",
      "              Yes            63.64\n",
      "Yes           No             40.00\n",
      "              Yes            60.00\n",
      "                          treatment\n",
      "family_history treatment           \n",
      "No             No             61.65\n",
      "               Yes            38.35\n",
      "Yes            No             24.53\n",
      "               Yes            75.47\n",
      "                     treatment\n",
      "treatment treatment           \n",
      "No        No             100.0\n",
      "Yes       Yes            100.0\n",
      "                          treatment\n",
      "work_interfere treatment           \n",
      "Never          No             86.96\n",
      "               Yes            13.04\n",
      "No_answer      No             99.27\n",
      "               Yes             0.73\n",
      "Often          No             10.13\n",
      "               Yes            89.87\n",
      "Rarely         No             24.04\n",
      "               Yes            75.96\n",
      "Sometimes      No             19.58\n",
      "               Yes            80.42\n",
      "                          treatment\n",
      "no_employees   treatment           \n",
      "1-5            No             36.23\n",
      "               Yes            63.77\n",
      "100-500        No             40.37\n",
      "               Yes            59.63\n",
      "26-100         No             40.48\n",
      "               Yes            59.52\n",
      "500-1000       No             48.78\n",
      "               Yes            51.22\n",
      "6-25           No             49.23\n",
      "               Yes            50.77\n",
      "More than 1000 No             50.98\n",
      "               Yes            49.02\n",
      "                       treatment\n",
      "remote_work treatment           \n",
      "No          No             46.09\n",
      "            Yes            53.91\n",
      "Yes         No             42.79\n",
      "            Yes            57.21\n",
      "                        treatment\n",
      "tech_company treatment           \n",
      "No           No             47.06\n",
      "             Yes            52.94\n",
      "Yes          No             44.62\n",
      "             Yes            55.38\n",
      "                      treatment\n",
      "benefits   treatment           \n",
      "Don't know No             63.76\n",
      "           Yes            36.24\n",
      "No         No             38.74\n",
      "           Yes            61.26\n",
      "Yes        No             35.70\n",
      "           Yes            64.30\n",
      "                        treatment\n",
      "care_options treatment           \n",
      "No           No             56.03\n",
      "             Yes            43.97\n",
      "Not sure     No             61.03\n",
      "             Yes            38.97\n",
      "Yes          No             25.85\n",
      "             Yes            74.15\n",
      "                            treatment\n",
      "wellness_program treatment           \n",
      "Don't know       No             54.10\n",
      "                 Yes            45.90\n",
      "No               No             43.05\n",
      "                 Yes            56.95\n",
      "Yes              No             43.75\n",
      "                 Yes            56.25\n",
      "                      treatment\n",
      "seek_help  treatment           \n",
      "Don't know No             53.15\n",
      "           Yes            46.85\n",
      "No         No             41.24\n",
      "           Yes            58.76\n",
      "Yes        No             39.77\n",
      "           Yes            60.23\n",
      "                      treatment\n",
      "anonymity  treatment           \n",
      "Don't know No             51.48\n",
      "           Yes            48.52\n",
      "No         No             31.58\n",
      "           Yes            68.42\n",
      "Yes        No             32.89\n",
      "           Yes            67.11\n",
      "                              treatment\n",
      "leave              treatment           \n",
      "Don't know         No             51.76\n",
      "                   Yes            48.24\n",
      "Somewhat difficult No             24.62\n",
      "                   Yes            75.38\n",
      "Somewhat easy      No             41.98\n",
      "                   Yes            58.02\n",
      "Very difficult     No             28.30\n",
      "                   Yes            71.70\n",
      "Very easy          No             46.60\n",
      "                   Yes            53.40\n",
      "                                     treatment\n",
      "mental_health_consequence treatment           \n",
      "Maybe                     No             43.10\n",
      "                          Yes            56.90\n",
      "No                        No             53.96\n",
      "                          Yes            46.04\n",
      "Yes                       No             34.34\n",
      "                          Yes            65.66\n",
      "                                   treatment\n",
      "phys_health_consequence treatment           \n",
      "Maybe                   No             39.29\n",
      "                        Yes            60.71\n",
      "No                      No             46.74\n",
      "                        Yes            53.26\n",
      "Yes                     No             41.38\n",
      "                        Yes            58.62\n",
      "                        treatment\n",
      "coworkers    treatment           \n",
      "No           No             46.67\n",
      "             Yes            53.33\n",
      "Some of them No             45.47\n",
      "             Yes            54.53\n",
      "Yes          No             41.53\n",
      "             Yes            58.47\n",
      "                        treatment\n",
      "supervisor   treatment           \n",
      "No           No             41.92\n",
      "             Yes            58.08\n",
      "Some of them No             42.65\n",
      "             Yes            57.35\n",
      "Yes          No             49.31\n",
      "             Yes            50.69\n",
      "                                   treatment\n",
      "mental_health_interview treatment           \n",
      "Maybe                   No             56.25\n",
      "                        Yes            43.75\n",
      "No                      No             43.70\n",
      "                        Yes            56.30\n",
      "Yes                     No             28.57\n",
      "                        Yes            71.43\n",
      "                                 treatment\n",
      "phys_health_interview treatment           \n",
      "Maybe                 No             49.02\n",
      "                      Yes            50.98\n",
      "No                    No             44.48\n",
      "                      Yes            55.52\n",
      "Yes                   No             33.71\n",
      "                      Yes            66.29\n",
      "                              treatment\n",
      "mental_vs_physical treatment           \n",
      "Don't know         No             49.71\n",
      "                   Yes            50.29\n",
      "No                 No             34.97\n",
      "                   Yes            65.03\n",
      "Yes                No             46.32\n",
      "                   Yes            53.68\n",
      "                           treatment\n",
      "obs_consequence treatment           \n",
      "No              No             47.48\n",
      "                Yes            52.52\n",
      "Yes             No             27.06\n",
      "                Yes            72.94\n"
     ]
    }
   ],
   "source": [
    "for i in df_USA.columns:\n",
    "    generate_perc_table(i, \"treatment\")"
   ]
  },
  {
   "cell_type": "markdown",
   "metadata": {
    "id": "MKW8c0iWZ_C3"
   },
   "source": [
    "**Summary**    \n",
    "   \n",
    "According to above picture and percentage table, we found that:\n",
    "-  Gender \n",
    " - 71.35% of female have been sought for mental treatment (n = 178). \n",
    " - 49.16% of male have been sought for mental treatment (n = 535).\n",
    " - 75% of other gender have been sought for mental treatment (n = 8). \n",
    " - Regardless the gender size, other gender and female have higher percentage sought for mental health.\n",
    "\n",
    "- Family history\n",
    " - People who has family history of mental illness has higher percentage (75.47%) to seek for mental treatment than those who doesn't have family history (38.35%)\n",
    "\n",
    "- Other factors might be less useful to discuss since we do not know people seek for treatment before or after they joining their companies.\n"
   ]
  },
  {
   "cell_type": "markdown",
   "metadata": {
    "id": "RTd33sa9nKQ6"
   },
   "source": [
    "# Inferential Analysis"
   ]
  },
  {
   "cell_type": "markdown",
   "metadata": {
    "id": "kWdG4Uk20V8d"
   },
   "source": [
    "## 1. Whether the types of health issues (mental or physical) related to people's willingness to discuss with their employer?\n",
    "\n",
    "- phys_health_consequence: Do you think discussing physical health issue with employer would have negative effect?\n",
    "- mental_health_consequence: Do you think discussing mental health issue with employer would have negative effect?"
   ]
  },
  {
   "cell_type": "code",
   "execution_count": 389,
   "metadata": {
    "colab": {
     "base_uri": "https://localhost:8080/"
    },
    "id": "qG5EQ_ocZ9f8",
    "outputId": "e9b06987-f942-4a01-b7dc-7637ab273732"
   },
   "outputs": [
    {
     "data": {
      "text/plain": [
       "No       552\n",
       "Maybe    140\n",
       "Yes       29\n",
       "Name: phys_health_consequence, dtype: int64"
      ]
     },
     "execution_count": 389,
     "metadata": {
      "tags": []
     },
     "output_type": "execute_result"
    }
   ],
   "source": [
    "phy_cons = df_USA[\"phys_health_consequence\"].value_counts()\n",
    "phy_cons"
   ]
  },
  {
   "cell_type": "code",
   "execution_count": 390,
   "metadata": {
    "colab": {
     "base_uri": "https://localhost:8080/"
    },
    "id": "_wIcZK-A3LCR",
    "outputId": "57349ed4-145b-4437-9e90-74fb799fa45f"
   },
   "outputs": [
    {
     "data": {
      "text/plain": [
       "Maybe    290\n",
       "No       265\n",
       "Yes      166\n",
       "Name: mental_health_consequence, dtype: int64"
      ]
     },
     "execution_count": 390,
     "metadata": {
      "tags": []
     },
     "output_type": "execute_result"
    }
   ],
   "source": [
    "mental_cons = df_USA[\"mental_health_consequence\"].value_counts()\n",
    "mental_cons"
   ]
  },
  {
   "cell_type": "code",
   "execution_count": 391,
   "metadata": {
    "colab": {
     "base_uri": "https://localhost:8080/",
     "height": 497
    },
    "id": "r6gisHtncq5P",
    "outputId": "10c05c17-c31f-4040-a316-71f689a07001"
   },
   "outputs": [
    {
     "data": {
      "text/plain": [
       "<matplotlib.axes._subplots.AxesSubplot at 0x7fef8184bac8>"
      ]
     },
     "execution_count": 391,
     "metadata": {
      "tags": []
     },
     "output_type": "execute_result"
    },
    {
     "data": {
      "image/png": "[encoded data removed]",
      "text/plain": [
       "<Figure size 1728x576 with 1 Axes>"
      ]
     },
     "metadata": {
      "tags": []
     },
     "output_type": "display_data"
    }
   ],
   "source": [
    "sns.barplot(x = phy_cons.index, y = phy_cons.values, order=[\"Yes\",\"No\",\"Maybe\"])"
   ]
  },
  {
   "cell_type": "code",
   "execution_count": 392,
   "metadata": {
    "colab": {
     "base_uri": "https://localhost:8080/",
     "height": 497
    },
    "id": "xgs1adn5tioY",
    "outputId": "8a0e6c42-5080-4614-b387-babe1053b5c0"
   },
   "outputs": [
    {
     "data": {
      "text/plain": [
       "<matplotlib.axes._subplots.AxesSubplot at 0x7fef8171bba8>"
      ]
     },
     "execution_count": 392,
     "metadata": {
      "tags": []
     },
     "output_type": "execute_result"
    },
    {
     "data": {
      "image/png": "[encoded data removed]",
      "text/plain": [
       "<Figure size 1728x576 with 1 Axes>"
      ]
     },
     "metadata": {
      "tags": []
     },
     "output_type": "display_data"
    }
   ],
   "source": [
    "sns.barplot(x = mental_cons.index, y = mental_cons.values, order=[\"Yes\",\"No\",\"Maybe\"])"
   ]
  },
  {
   "cell_type": "code",
   "execution_count": 393,
   "metadata": {
    "colab": {
     "base_uri": "https://localhost:8080/"
    },
    "id": "QwByn7M-znmd",
    "outputId": "db85afbd-9038-44a1-821a-dea987b16397"
   },
   "outputs": [
    {
     "name": "stdout",
     "output_type": "stream",
     "text": [
      "Reject H0. Types of health issues is dependent with people's willingness to discuss with their employer. (alpha = 0.05)\n"
     ]
    }
   ],
   "source": [
    "# Test for independent using Pearsons's Chi-squared Test\n",
    "# H0: two variables are independent; H1: two variables are dependent\n",
    "test_data = [[166, 265, 290],\n",
    "             [29, 552, 140]]\n",
    "alpha = 0.05\n",
    "stat, p, dof, expected = chi2_contingency(test_data)\n",
    "\n",
    "if p <= alpha:\n",
    "    print(\"Reject H0. Types of health issues is dependent with people's willingness to discuss with their employer. (alpha = 0.05)\")\n",
    "else:\n",
    "    print(\"Fail to reject H0. Types of health issues is independent with people's willingness to discuss with their employer. (alpha = 0.05)\") "
   ]
  },
  {
   "cell_type": "markdown",
   "metadata": {
    "id": "jVHcnhGZ3YoC"
   },
   "source": [
    "- According to our data, people think that discussing mental health issues with their employer more likely to have negative effect than discussing physical health issues."
   ]
  },
  {
   "cell_type": "markdown",
   "metadata": {
    "id": "hyomiVWo4XYg"
   },
   "source": [
    "## 2. Whether colleague's job level related to people's willingness to discussing about mental issue?\n",
    "\n",
    "- coworkers: Would you be willling to discuss mental issues with your coworkers?\n",
    "- supervisor: Would you be willling to discuss mental issues with your supervisor?"
   ]
  },
  {
   "cell_type": "code",
   "execution_count": 394,
   "metadata": {
    "colab": {
     "base_uri": "https://localhost:8080/"
    },
    "id": "Yh5c-w233XlY",
    "outputId": "ef3b85da-23e8-4c36-f0a7-c7ab619a576a"
   },
   "outputs": [
    {
     "data": {
      "text/plain": [
       "Some of them    453\n",
       "No              150\n",
       "Yes             118\n",
       "Name: coworkers, dtype: int64"
      ]
     },
     "execution_count": 394,
     "metadata": {
      "tags": []
     },
     "output_type": "execute_result"
    }
   ],
   "source": [
    "coworkers = df_USA[\"coworkers\"].value_counts()\n",
    "coworkers"
   ]
  },
  {
   "cell_type": "code",
   "execution_count": 395,
   "metadata": {
    "colab": {
     "base_uri": "https://localhost:8080/"
    },
    "id": "1kF0awQX6Jka",
    "outputId": "b4df777b-f3da-4b1d-8cdf-21cacb9d386f"
   },
   "outputs": [
    {
     "data": {
      "text/plain": [
       "Yes             288\n",
       "No              229\n",
       "Some of them    204\n",
       "Name: supervisor, dtype: int64"
      ]
     },
     "execution_count": 395,
     "metadata": {
      "tags": []
     },
     "output_type": "execute_result"
    }
   ],
   "source": [
    "supervisor = df_USA[\"supervisor\"].value_counts()\n",
    "supervisor"
   ]
  },
  {
   "cell_type": "code",
   "execution_count": 396,
   "metadata": {
    "colab": {
     "base_uri": "https://localhost:8080/",
     "height": 497
    },
    "id": "5ZjOLj7c6NIN",
    "outputId": "90a5daa4-92ca-4267-e59a-026aacc27fe1"
   },
   "outputs": [
    {
     "data": {
      "text/plain": [
       "<matplotlib.axes._subplots.AxesSubplot at 0x7fef816da400>"
      ]
     },
     "execution_count": 396,
     "metadata": {
      "tags": []
     },
     "output_type": "execute_result"
    },
    {
     "data": {
      "image/png": "[encoded data removed]",
      "text/plain": [
       "<Figure size 1728x576 with 1 Axes>"
      ]
     },
     "metadata": {
      "tags": []
     },
     "output_type": "display_data"
    }
   ],
   "source": [
    "sns.barplot(x = coworkers.index, y = coworkers.values, order=[\"Yes\",\"No\",\"Some of them\"])"
   ]
  },
  {
   "cell_type": "code",
   "execution_count": 397,
   "metadata": {
    "colab": {
     "base_uri": "https://localhost:8080/",
     "height": 497
    },
    "id": "rhmFpUpA6Rda",
    "outputId": "b08e0074-06e6-4560-e92b-234a0ec6cefc"
   },
   "outputs": [
    {
     "data": {
      "text/plain": [
       "<matplotlib.axes._subplots.AxesSubplot at 0x7fef816b0f60>"
      ]
     },
     "execution_count": 397,
     "metadata": {
      "tags": []
     },
     "output_type": "execute_result"
    },
    {
     "data": {
      "image/png": "[encoded data removed]",
      "text/plain": [
       "<Figure size 1728x576 with 1 Axes>"
      ]
     },
     "metadata": {
      "tags": []
     },
     "output_type": "display_data"
    }
   ],
   "source": [
    "sns.barplot(x = supervisor.index, y = supervisor.values, order=[\"Yes\",\"No\",\"Some of them\"])"
   ]
  },
  {
   "cell_type": "code",
   "execution_count": 398,
   "metadata": {
    "colab": {
     "base_uri": "https://localhost:8080/"
    },
    "id": "XKZyBAbc6Vpy",
    "outputId": "0ed6a547-55be-4ad6-b869-6c5298b289e5"
   },
   "outputs": [
    {
     "name": "stdout",
     "output_type": "stream",
     "text": [
      "Reject H0. Colleague's job level is dependent with people's willingness to discuss their mental health issue. (alpha = 0.05)\n"
     ]
    }
   ],
   "source": [
    "# Test for independent using Pearsons's Chi-squared Test\n",
    "# H0: two variables are independent; H1: two variables are dependent\n",
    "test_data_2 = [[118, 150, 453],\n",
    "               [288, 229, 204]]\n",
    "alpha = 0.05\n",
    "stat_2, p_2, dof_2, expected_2 = chi2_contingency(test_data_2)\n",
    "\n",
    "if p_2 <= alpha:\n",
    "    print(\"Reject H0. Colleague's job level is dependent with people's willingness to discuss their mental health issue. (alpha = 0.05)\")\n",
    "else:\n",
    "    print(\"Fail to reject H0. Colleague's job level is independent with people's willingness to discuss their mental health issue. (alpha = 0.05)\") "
   ]
  },
  {
   "cell_type": "markdown",
   "metadata": {
    "id": "QHQQelz98YcD"
   },
   "source": [
    "- According to our data, colleague's job level is related to people's willingness to discuss their mental health issue. "
   ]
  },
  {
   "cell_type": "markdown",
   "metadata": {
    "id": "39MoafRo-kYf"
   },
   "source": [
    "## 3. Wether gender related to the willingness to discuss the mental health problem with employer?\n",
    "\n",
    "- Gender: Male, Female, Other\n",
    "- mental_health_consequence: Do you think discussing mental health issue with employer would have negative effect?"
   ]
  },
  {
   "cell_type": "code",
   "execution_count": 399,
   "metadata": {
    "colab": {
     "base_uri": "https://localhost:8080/"
    },
    "id": "H8AW4qiT8Wem",
    "outputId": "a989314c-30d5-48eb-9e65-4bb58fea5d16"
   },
   "outputs": [
    {
     "data": {
      "text/plain": [
       "Gender  mental_health_consequence\n",
       "female  Maybe                         78\n",
       "        No                            51\n",
       "        Yes                           49\n",
       "male    No                           214\n",
       "        Maybe                        208\n",
       "        Yes                          113\n",
       "others  Maybe                          4\n",
       "        Yes                            4\n",
       "Name: mental_health_consequence, dtype: int64"
      ]
     },
     "execution_count": 399,
     "metadata": {
      "tags": []
     },
     "output_type": "execute_result"
    }
   ],
   "source": [
    "df_USA.groupby(\"Gender\")[\"mental_health_consequence\"].value_counts()"
   ]
  },
  {
   "cell_type": "code",
   "execution_count": 400,
   "metadata": {
    "colab": {
     "base_uri": "https://localhost:8080/",
     "height": 511
    },
    "id": "N6wB4MF7-qvD",
    "outputId": "609261b9-d1b4-454d-a141-8e3e8671bab6"
   },
   "outputs": [
    {
     "data": {
      "text/plain": [
       "<matplotlib.axes._subplots.AxesSubplot at 0x7fef814e7c50>"
      ]
     },
     "execution_count": 400,
     "metadata": {
      "tags": []
     },
     "output_type": "execute_result"
    },
    {
     "data": {
      "image/png": "[encoded data removed]",
      "text/plain": [
       "<Figure size 1728x576 with 1 Axes>"
      ]
     },
     "metadata": {
      "tags": []
     },
     "output_type": "display_data"
    }
   ],
   "source": [
    "sns.countplot(data = df_USA, x = \"Gender\", hue = \"mental_health_consequence\")"
   ]
  },
  {
   "cell_type": "markdown",
   "metadata": {
    "id": "WTJDQnleBE2i"
   },
   "source": [
    "**Notes**    \n",
    "Since \"Others gender\" category is too small, we have expected value less than 5, which does not meet the assumption while using the chi-squared test. As a result, we only conduct chi-squared test for male and female."
   ]
  },
  {
   "cell_type": "code",
   "execution_count": 401,
   "metadata": {
    "colab": {
     "base_uri": "https://localhost:8080/"
    },
    "id": "wXSHRGWv-1LZ",
    "outputId": "9db2d508-2bf5-4cf2-d495-0d8d2b8e25b6"
   },
   "outputs": [
    {
     "name": "stdout",
     "output_type": "stream",
     "text": [
      "Reject H0. Gender is dependent with people's willingness to discuss their mental health issue with employer. (alpha = 0.05)\n"
     ]
    }
   ],
   "source": [
    "# Test for independent using Pearsons's Chi-squared Test\n",
    "# H0: two variables are independent; H1: two variables are dependent\n",
    "test_data_3 = [[49, 51, 78],\n",
    "               [113, 214, 208]]\n",
    "alpha = 0.05\n",
    "stat_3, p_3, dof_3, expected_3 = chi2_contingency(test_data_3)\n",
    "\n",
    "if p_3 <= alpha:\n",
    "    print(\"Reject H0. Gender is dependent with people's willingness to discuss their mental health issue with employer. (alpha = 0.05)\")\n",
    "else:\n",
    "    print(\"Fail to reject H0. Types of health issues is independent with people's willingness to discuss their mental health issue employer. (alpha = 0.05)\") "
   ]
  },
  {
   "cell_type": "markdown",
   "metadata": {
    "id": "x6iI3xooMK6J"
   },
   "source": [
    "- According to our data, gender is a factor that related to how people think wehter discussing their mental health with employer will have negative effect. Female might be more concern about the negative effect."
   ]
  },
  {
   "cell_type": "markdown",
   "metadata": {
    "id": "ThSfVKJUMxnx"
   },
   "source": [
    "## 4. Whether company size related to mental health benefits?\n",
    "\n",
    "- no_employees: How many employees in the company?\n",
    "- benefits: Does your employer provide mental health benefits?"
   ]
  },
  {
   "cell_type": "code",
   "execution_count": 402,
   "metadata": {
    "colab": {
     "base_uri": "https://localhost:8080/"
    },
    "id": "eWG8Paj4B6ye",
    "outputId": "70bc605f-1fec-430d-acc3-cf7db248c2da"
   },
   "outputs": [
    {
     "data": {
      "text/plain": [
       "More than 1000    204\n",
       "26-100            168\n",
       "6-25              130\n",
       "100-500           109\n",
       "1-5                69\n",
       "500-1000           41\n",
       "Name: no_employees, dtype: int64"
      ]
     },
     "execution_count": 402,
     "metadata": {
      "tags": []
     },
     "output_type": "execute_result"
    }
   ],
   "source": [
    "df_USA[\"no_employees\"].value_counts()"
   ]
  },
  {
   "cell_type": "code",
   "execution_count": 403,
   "metadata": {
    "colab": {
     "base_uri": "https://localhost:8080/",
     "height": 511
    },
    "id": "x_lv3z9fNJo0",
    "outputId": "8abc8b67-d551-4bde-cd4f-819dd85a24ce"
   },
   "outputs": [
    {
     "data": {
      "text/plain": [
       "<matplotlib.axes._subplots.AxesSubplot at 0x7fef814ddeb8>"
      ]
     },
     "execution_count": 403,
     "metadata": {
      "tags": []
     },
     "output_type": "execute_result"
    },
    {
     "data": {
      "image/png": "[encoded data removed]",
      "text/plain": [
       "<Figure size 1728x576 with 1 Axes>"
      ]
     },
     "metadata": {
      "tags": []
     },
     "output_type": "display_data"
    }
   ],
   "source": [
    "sns.countplot(data = df_USA, x = \"no_employees\",\n",
    "              order=[\"More than 1000\",\"500-1000\",\"100-500\", \"26-100\", \"6-25\", \"1-5\"])"
   ]
  },
  {
   "cell_type": "code",
   "execution_count": 404,
   "metadata": {
    "colab": {
     "base_uri": "https://localhost:8080/",
     "height": 511
    },
    "id": "TNFUYeQhNLI_",
    "outputId": "ab832efe-cf0c-44da-a445-776b79a06649"
   },
   "outputs": [
    {
     "data": {
      "text/plain": [
       "<matplotlib.axes._subplots.AxesSubplot at 0x7fef814289b0>"
      ]
     },
     "execution_count": 404,
     "metadata": {
      "tags": []
     },
     "output_type": "execute_result"
    },
    {
     "data": {
      "image/png": "[encoded data removed]",
      "text/plain": [
       "<Figure size 1728x576 with 1 Axes>"
      ]
     },
     "metadata": {
      "tags": []
     },
     "output_type": "display_data"
    }
   ],
   "source": [
    "sns.countplot(data = df_USA, x = \"no_employees\", hue = \"benefits\",\n",
    "              order=[\"More than 1000\",\"500-1000\",\"100-500\", \"26-100\", \"6-25\", \"1-5\"])"
   ]
  },
  {
   "cell_type": "code",
   "execution_count": 405,
   "metadata": {
    "colab": {
     "base_uri": "https://localhost:8080/"
    },
    "id": "kSRR5LZsNOwJ",
    "outputId": "5384816f-861d-4745-a110-b63697a8f306"
   },
   "outputs": [
    {
     "name": "stdout",
     "output_type": "stream",
     "text": [
      "Reject H0. Company size is dependent with mental health benefits. (alpha = 0.05)\n"
     ]
    }
   ],
   "source": [
    "# Test for independent using Pearsons's Chi-squared Test\n",
    "# H0: two variables are independent; H1: two variables are dependent\n",
    "test_data_4 = [[13, 43, 13],\n",
    "               [64, 11, 34],\n",
    "               [86, 13, 69],\n",
    "               [29, 2, 10],\n",
    "               [40, 35, 55],\n",
    "               [149, 7, 48]]\n",
    "alpha = 0.05\n",
    "stat_4, p_4, dof_4, expected_4 = chi2_contingency(test_data_4)\n",
    "\n",
    "if p_4 <= alpha:\n",
    "    print(\"Reject H0. Company size is dependent with mental health benefits. (alpha = 0.05)\")\n",
    "else:\n",
    "    print(\"Fail to reject H0. Company size is independent with mental health benefits. (alpha = 0.05)\")\n"
   ]
  },
  {
   "cell_type": "markdown",
   "metadata": {
    "id": "t6h9q1hGSAyo"
   },
   "source": [
    "- According to our data, company size is related to mental health benefits. In other words, big company might provide more mental benefits for their employees."
   ]
  },
  {
   "cell_type": "markdown",
   "metadata": {
    "id": "tYpU2zwjVCeW"
   },
   "source": [
    "# Summary (Part I : Exploratory Data Analysis & Inferential Statistic)\n",
    "\n",
    "1. **Project Scope**: In this project, we focus on the U.S. mental survey sub-dataset, which includes 721 records. \n",
    "\n",
    "2. **Descriptive statistics of dataset**   \n",
    "(1) Some of the attributes in this survey dataset is inbalance.     \n",
    "(2) We have major response from California (>17.5%), followed by Washington (\\~10%), New York (\\~7.5%).    \n",
    "(3) We have survey response mainly from male (74.2%). Female response accounted for 24.7% and other gender accounted for 1.1%.    \n",
    "(4) Discuss: \n",
    "    - Inbalance of survey records might indicates most of the tech company are in CA; and the majority of the employees in tech company is male.\n",
    "    - Inbalance of survey records might happen because of the limitation of this survey, or inappropriate survey design.\n",
    "\n",
    "3. **Inference from dataset**    \n",
    "(1) Female and other gender group have higher percentage to seek for mental health treatment than male.    \n",
    "(2) People who have family history of mental illness have higher percentage to seek for mental health treatment.   \n",
    "(3) Type of health issues (mental or physical) is related to people's willingness to discuss with their employer. In other words, people think that discussing mental health issues with their employer might have more negative effect than discussing physical health issues.    \n",
    "(4) Colleagues's job level (coworkers or supervisor) is related to people's willingness to discuss with their mental issues.   \n",
    "(5) Gender is related to people's willingness to discuss their mental health issues with employer. In other words, female are more concern about the negative effect than male.    \n",
    "(6) Company size is related to their mental health benefits. Big company provides more mental health benefits for their employees.   "
   ]
  },
  {
   "cell_type": "markdown",
   "metadata": {
    "id": "21zoTq9tjup_"
   },
   "source": [
    "# Part II : Prediction Model"
   ]
  },
  {
   "cell_type": "markdown",
   "metadata": {
    "id": "Nyh7vtnauUp2"
   },
   "source": [
    "Some people might not feel comfortable talking about their mental treatment history. However, if a employee-friendly company would like to pay more attention to their employee's mental health, they could use this prediction model to better understand their employee's condition.\n",
    "\n",
    "As a result, we would like to predict \"Whether people have sought for mental treatment before? (Yes or No)\" based on the other survey answers. I'll first use **logistic regression model** with three different training attributes as input to predict the result. Then I'll use **random forest model** as our prediction model. Finally, I'll compare the results from above two models. \n",
    "\n",
    "- Treatment column: Have you sought treatment for a mental health condition? (Yes or No)"
   ]
  },
  {
   "cell_type": "code",
   "execution_count": 406,
   "metadata": {
    "id": "u6IUvyhR5CrA"
   },
   "outputs": [],
   "source": [
    "# Define function which used for transforming data, fiting model, and evaluating result\n",
    "# Reference to the code structure from: https://machinelearningmastery.com/feature-selection-with-categorical-data/\n",
    "\n",
    "def transform_training_data(X_train, X_test):\n",
    "    ohe = OneHotEncoder(handle_unknown='ignore')\n",
    "    ohe.fit(X_train)\n",
    "    X_train_ohe = ohe.transform(X_train)\n",
    "    X_test_ohe = ohe.transform(X_test)\n",
    "    return X_train_ohe, X_test_ohe\n",
    "\n",
    "def transform_target_data(y_train, y_test):\n",
    "    le = LabelEncoder()\n",
    "    le.fit(y_train)\n",
    "    y_train_ohe = le.transform(y_train)\n",
    "    y_test_ohe = le.transform(y_test)\n",
    "    return y_train_ohe, y_test_ohe\n",
    "\n",
    "def fit_model_get_predict(X_train, y_train, X_test):\n",
    "    model = LogisticRegression()\n",
    "    model.fit(X_train, y_train)\n",
    "    y_predict = model.predict(X_test)\n",
    "    return y_predict\n",
    "\n",
    "def evaluate_model(y_test, y_predict):\n",
    "    result = classification_report(y_test, y_predict)\n",
    "    print(result)"
   ]
  },
  {
   "cell_type": "code",
   "execution_count": 407,
   "metadata": {
    "colab": {
     "base_uri": "https://localhost:8080/",
     "height": 213
    },
    "id": "uGUH7ASkR_JG",
    "outputId": "bffea7a2-ec72-4086-d886-e009adc929b7"
   },
   "outputs": [
    {
     "data": {
      "text/html": [
       "<div>\n",
       "<style scoped>\n",
       "    .dataframe tbody tr th:only-of-type {\n",
       "        vertical-align: middle;\n",
       "    }\n",
       "\n",
       "    .dataframe tbody tr th {\n",
       "        vertical-align: top;\n",
       "    }\n",
       "\n",
       "    .dataframe thead th {\n",
       "        text-align: right;\n",
       "    }\n",
       "</style>\n",
       "<table border=\"1\" class=\"dataframe\">\n",
       "  <thead>\n",
       "    <tr style=\"text-align: right;\">\n",
       "      <th></th>\n",
       "      <th>Age</th>\n",
       "      <th>Gender</th>\n",
       "      <th>Country</th>\n",
       "      <th>state</th>\n",
       "      <th>self_employed</th>\n",
       "      <th>family_history</th>\n",
       "      <th>treatment</th>\n",
       "      <th>work_interfere</th>\n",
       "      <th>no_employees</th>\n",
       "      <th>remote_work</th>\n",
       "      <th>tech_company</th>\n",
       "      <th>benefits</th>\n",
       "      <th>care_options</th>\n",
       "      <th>wellness_program</th>\n",
       "      <th>seek_help</th>\n",
       "      <th>anonymity</th>\n",
       "      <th>leave</th>\n",
       "      <th>mental_health_consequence</th>\n",
       "      <th>phys_health_consequence</th>\n",
       "      <th>coworkers</th>\n",
       "      <th>supervisor</th>\n",
       "      <th>mental_health_interview</th>\n",
       "      <th>phys_health_interview</th>\n",
       "      <th>mental_vs_physical</th>\n",
       "      <th>obs_consequence</th>\n",
       "    </tr>\n",
       "  </thead>\n",
       "  <tbody>\n",
       "    <tr>\n",
       "      <th>0</th>\n",
       "      <td>37</td>\n",
       "      <td>female</td>\n",
       "      <td>United States</td>\n",
       "      <td>IL</td>\n",
       "      <td>Unknown</td>\n",
       "      <td>No</td>\n",
       "      <td>Yes</td>\n",
       "      <td>Often</td>\n",
       "      <td>6-25</td>\n",
       "      <td>No</td>\n",
       "      <td>Yes</td>\n",
       "      <td>Yes</td>\n",
       "      <td>Not sure</td>\n",
       "      <td>No</td>\n",
       "      <td>Yes</td>\n",
       "      <td>Yes</td>\n",
       "      <td>Somewhat easy</td>\n",
       "      <td>No</td>\n",
       "      <td>No</td>\n",
       "      <td>Some of them</td>\n",
       "      <td>Yes</td>\n",
       "      <td>No</td>\n",
       "      <td>Maybe</td>\n",
       "      <td>Yes</td>\n",
       "      <td>No</td>\n",
       "    </tr>\n",
       "    <tr>\n",
       "      <th>1</th>\n",
       "      <td>44</td>\n",
       "      <td>male</td>\n",
       "      <td>United States</td>\n",
       "      <td>IN</td>\n",
       "      <td>Unknown</td>\n",
       "      <td>No</td>\n",
       "      <td>No</td>\n",
       "      <td>Rarely</td>\n",
       "      <td>More than 1000</td>\n",
       "      <td>No</td>\n",
       "      <td>No</td>\n",
       "      <td>Don't know</td>\n",
       "      <td>No</td>\n",
       "      <td>Don't know</td>\n",
       "      <td>Don't know</td>\n",
       "      <td>Don't know</td>\n",
       "      <td>Don't know</td>\n",
       "      <td>Maybe</td>\n",
       "      <td>No</td>\n",
       "      <td>No</td>\n",
       "      <td>No</td>\n",
       "      <td>No</td>\n",
       "      <td>No</td>\n",
       "      <td>Don't know</td>\n",
       "      <td>No</td>\n",
       "    </tr>\n",
       "    <tr>\n",
       "      <th>4</th>\n",
       "      <td>31</td>\n",
       "      <td>male</td>\n",
       "      <td>United States</td>\n",
       "      <td>TX</td>\n",
       "      <td>Unknown</td>\n",
       "      <td>No</td>\n",
       "      <td>No</td>\n",
       "      <td>Never</td>\n",
       "      <td>100-500</td>\n",
       "      <td>Yes</td>\n",
       "      <td>Yes</td>\n",
       "      <td>Yes</td>\n",
       "      <td>No</td>\n",
       "      <td>Don't know</td>\n",
       "      <td>Don't know</td>\n",
       "      <td>Don't know</td>\n",
       "      <td>Don't know</td>\n",
       "      <td>No</td>\n",
       "      <td>No</td>\n",
       "      <td>Some of them</td>\n",
       "      <td>Yes</td>\n",
       "      <td>Yes</td>\n",
       "      <td>Yes</td>\n",
       "      <td>Don't know</td>\n",
       "      <td>No</td>\n",
       "    </tr>\n",
       "  </tbody>\n",
       "</table>\n",
       "</div>"
      ],
      "text/plain": [
       "   Age  Gender  ... mental_vs_physical obs_consequence\n",
       "0   37  female  ...                Yes              No\n",
       "1   44    male  ...         Don't know              No\n",
       "4   31    male  ...         Don't know              No\n",
       "\n",
       "[3 rows x 25 columns]"
      ]
     },
     "execution_count": 407,
     "metadata": {
      "tags": []
     },
     "output_type": "execute_result"
    }
   ],
   "source": [
    "df_USA.head(3)"
   ]
  },
  {
   "cell_type": "markdown",
   "metadata": {
    "id": "0i37GR-ReGw-"
   },
   "source": [
    "## Logistic Regression Model"
   ]
  },
  {
   "cell_type": "markdown",
   "metadata": {
    "id": "1oOTSMYl9z2s"
   },
   "source": [
    "## Training Attributes 1 (excludes age, country, state)"
   ]
  },
  {
   "cell_type": "code",
   "execution_count": 408,
   "metadata": {
    "id": "oJAKQUW5lIA3"
   },
   "outputs": [],
   "source": [
    "# y: treatment\n",
    "# X: all the other attributes (excludes Age, Country, state)\n",
    "y_1 = df_USA.iloc[:,[6]]\n",
    "X_1 = df_USA.iloc[:,np.r_[1, 4:6, 7:len(df_USA.columns)]]\n",
    "X_1 = X_1.astype(str)\n",
    "X_train_1, X_test_1, y_train_1, y_test_1 = train_test_split(X_1, y_1, test_size = 0.25, random_state = 12)"
   ]
  },
  {
   "cell_type": "code",
   "execution_count": 409,
   "metadata": {
    "colab": {
     "base_uri": "https://localhost:8080/"
    },
    "id": "5HIHRleXejx0",
    "outputId": "0b40e98f-7e70-49c6-82d7-52b3f549dbc3"
   },
   "outputs": [
    {
     "name": "stdout",
     "output_type": "stream",
     "text": [
      "              precision    recall  f1-score   support\n",
      "\n",
      "           0       0.88      0.78      0.83        73\n",
      "           1       0.86      0.93      0.89       108\n",
      "\n",
      "    accuracy                           0.87       181\n",
      "   macro avg       0.87      0.85      0.86       181\n",
      "weighted avg       0.87      0.87      0.87       181\n",
      "\n"
     ]
    },
    {
     "name": "stderr",
     "output_type": "stream",
     "text": [
      "/usr/local/lib/python3.6/dist-packages/sklearn/preprocessing/_label.py:235: DataConversionWarning: A column-vector y was passed when a 1d array was expected. Please change the shape of y to (n_samples, ), for example using ravel().\n",
      "  y = column_or_1d(y, warn=True)\n",
      "/usr/local/lib/python3.6/dist-packages/sklearn/preprocessing/_label.py:268: DataConversionWarning: A column-vector y was passed when a 1d array was expected. Please change the shape of y to (n_samples, ), for example using ravel().\n",
      "  y = column_or_1d(y, warn=True)\n"
     ]
    }
   ],
   "source": [
    "X_train_ohe_1, X_test_ohe_1 = transform_training_data(X_train_1, X_test_1)\n",
    "y_train_ohe_1, y_test_ohe_1 = transform_target_data(y_train_1, y_test_1)\n",
    "y_predict_1 = fit_model_get_predict(X_train_ohe_1, y_train_ohe_1, X_test_ohe_1)\n",
    "evaluate_model(y_test_ohe_1, y_predict_1)\n",
    "\n"
   ]
  },
  {
   "cell_type": "markdown",
   "metadata": {
    "id": "LTwG_P4k_enY"
   },
   "source": [
    "## Training Attributes 2 (excludes country, state)"
   ]
  },
  {
   "cell_type": "code",
   "execution_count": 410,
   "metadata": {
    "id": "KciLZtD9rI8l"
   },
   "outputs": [],
   "source": [
    "# y: treatment\n",
    "# X: all the other attributes (excludes Country, state)\n",
    "y_2 = df_USA.iloc[:,[6]]\n",
    "X_2 = df_USA.iloc[:,np.r_[0:2,4:6, 7:len(df_USA.columns)]]\n",
    "X_2 = X_2.astype(str)\n",
    "X_train_2, X_test_2, y_train_2, y_test_2 = train_test_split(X_2, y_2, test_size = 0.25, random_state = 12)"
   ]
  },
  {
   "cell_type": "code",
   "execution_count": 411,
   "metadata": {
    "colab": {
     "base_uri": "https://localhost:8080/"
    },
    "id": "ofVAfj5a_ubu",
    "outputId": "6ff4148f-0335-484e-e895-6f7e9623cce5"
   },
   "outputs": [
    {
     "name": "stdout",
     "output_type": "stream",
     "text": [
      "              precision    recall  f1-score   support\n",
      "\n",
      "           0       0.88      0.78      0.83        73\n",
      "           1       0.86      0.93      0.89       108\n",
      "\n",
      "    accuracy                           0.87       181\n",
      "   macro avg       0.87      0.85      0.86       181\n",
      "weighted avg       0.87      0.87      0.87       181\n",
      "\n"
     ]
    },
    {
     "name": "stderr",
     "output_type": "stream",
     "text": [
      "/usr/local/lib/python3.6/dist-packages/sklearn/preprocessing/_label.py:235: DataConversionWarning: A column-vector y was passed when a 1d array was expected. Please change the shape of y to (n_samples, ), for example using ravel().\n",
      "  y = column_or_1d(y, warn=True)\n",
      "/usr/local/lib/python3.6/dist-packages/sklearn/preprocessing/_label.py:268: DataConversionWarning: A column-vector y was passed when a 1d array was expected. Please change the shape of y to (n_samples, ), for example using ravel().\n",
      "  y = column_or_1d(y, warn=True)\n"
     ]
    }
   ],
   "source": [
    "X_train_ohe_2, X_test_ohe_2 = transform_training_data(X_train_2, X_test_2)\n",
    "y_train_ohe_2, y_test_ohe_2 = transform_target_data(y_train_2, y_test_2)\n",
    "y_predict_2 = fit_model_get_predict(X_train_ohe_2, y_train_ohe_2, X_test_ohe_2)\n",
    "evaluate_model(y_test_ohe_2, y_predict_2)"
   ]
  },
  {
   "cell_type": "markdown",
   "metadata": {
    "id": "pNwzFtZaBALg"
   },
   "source": [
    "## Training Attribute 3 (includes all the attributes)"
   ]
  },
  {
   "cell_type": "code",
   "execution_count": 412,
   "metadata": {
    "id": "9SitkyfPAQQS"
   },
   "outputs": [],
   "source": [
    "# y: treatment\n",
    "# X: all the other attributes (excludes Country, state)\n",
    "y_3 = df_USA.iloc[:,[6]]\n",
    "X_3 = df_USA.iloc[:,np.r_[0:6, 7:len(df_USA.columns)]]\n",
    "X_3 = X_3.astype(str)\n",
    "X_train_3, X_test_3, y_train_3, y_test_3 = train_test_split(X_3, y_3, test_size = 0.25, random_state = 12)"
   ]
  },
  {
   "cell_type": "code",
   "execution_count": 413,
   "metadata": {
    "colab": {
     "base_uri": "https://localhost:8080/"
    },
    "id": "vdONKKvvArW8",
    "outputId": "d75436aa-7450-47b6-b502-c467ae686e7c"
   },
   "outputs": [
    {
     "name": "stderr",
     "output_type": "stream",
     "text": [
      "/usr/local/lib/python3.6/dist-packages/sklearn/preprocessing/_label.py:235: DataConversionWarning: A column-vector y was passed when a 1d array was expected. Please change the shape of y to (n_samples, ), for example using ravel().\n",
      "  y = column_or_1d(y, warn=True)\n",
      "/usr/local/lib/python3.6/dist-packages/sklearn/preprocessing/_label.py:268: DataConversionWarning: A column-vector y was passed when a 1d array was expected. Please change the shape of y to (n_samples, ), for example using ravel().\n",
      "  y = column_or_1d(y, warn=True)\n"
     ]
    },
    {
     "name": "stdout",
     "output_type": "stream",
     "text": [
      "              precision    recall  f1-score   support\n",
      "\n",
      "           0       0.84      0.81      0.83        73\n",
      "           1       0.87      0.90      0.89       108\n",
      "\n",
      "    accuracy                           0.86       181\n",
      "   macro avg       0.86      0.85      0.86       181\n",
      "weighted avg       0.86      0.86      0.86       181\n",
      "\n"
     ]
    }
   ],
   "source": [
    "X_train_ohe_3, X_test_ohe_3 = transform_training_data(X_train_3, X_test_3)\n",
    "y_train_ohe_3, y_test_ohe_3 = transform_target_data(y_train_3, y_test_3)\n",
    "y_predict_3 = fit_model_get_predict(X_train_ohe_3, y_train_ohe_3, X_test_ohe_3)\n",
    "evaluate_model(y_test_ohe_3, y_predict_3)"
   ]
  },
  {
   "cell_type": "markdown",
   "metadata": {
    "id": "lQnDnEEgeNoY"
   },
   "source": [
    "## Random Forest Model"
   ]
  },
  {
   "cell_type": "code",
   "execution_count": 414,
   "metadata": {
    "colab": {
     "base_uri": "https://localhost:8080/"
    },
    "id": "X7Asf7_0aH6u",
    "outputId": "3691daae-d0a9-4f43-de6d-faf36182ec2a"
   },
   "outputs": [
    {
     "name": "stderr",
     "output_type": "stream",
     "text": [
      "/usr/local/lib/python3.6/dist-packages/sklearn/preprocessing/_label.py:235: DataConversionWarning: A column-vector y was passed when a 1d array was expected. Please change the shape of y to (n_samples, ), for example using ravel().\n",
      "  y = column_or_1d(y, warn=True)\n",
      "/usr/local/lib/python3.6/dist-packages/sklearn/preprocessing/_label.py:268: DataConversionWarning: A column-vector y was passed when a 1d array was expected. Please change the shape of y to (n_samples, ), for example using ravel().\n",
      "  y = column_or_1d(y, warn=True)\n"
     ]
    },
    {
     "name": "stdout",
     "output_type": "stream",
     "text": [
      "              precision    recall  f1-score   support\n",
      "\n",
      "           0       0.83      0.79      0.81        73\n",
      "           1       0.86      0.89      0.88       108\n",
      "\n",
      "    accuracy                           0.85       181\n",
      "   macro avg       0.85      0.84      0.84       181\n",
      "weighted avg       0.85      0.85      0.85       181\n",
      "\n"
     ]
    }
   ],
   "source": [
    "# y: treatment\n",
    "# X: all the other attributes (excludes Country, state)\n",
    "y_4 = df_USA.iloc[:,[6]]\n",
    "X_4 = df_USA.iloc[:,np.r_[0:2,4:6, 7:len(df_USA.columns)]]\n",
    "X_4= X_4.astype(str)\n",
    "X_train_4, X_test_4, y_train_4, y_test_4 = train_test_split(X_4, y_4, test_size = 0.25, random_state = 12)\n",
    "\n",
    "X_train_ohe_4, X_test_ohe_4 = transform_training_data(X_train_4, X_test_4)\n",
    "y_train_ohe_4, y_test_ohe_4 = transform_target_data(y_train_4, y_test_4)\n",
    "rf_model = RandomForestClassifier()\n",
    "rf_model.fit(X_train_ohe_4, y_train_ohe_4)\n",
    "y_pred_4 = rf_model.predict(X_test_ohe_4)\n",
    "rf_result = classification_report(y_test_ohe_4, y_pred_4)\n",
    "print(rf_result)"
   ]
  },
  {
   "cell_type": "markdown",
   "metadata": {
    "id": "dNz1nEoSBxlR"
   },
   "source": [
    "# Summary (Part II : Prediction Model)\n",
    "\n",
    "In this part, we used the logistic regression model and random forest model to predict the \"treatment\" attributes. we have tried three training data for the logistic regression model. But it seems there's not much difference in the performance. \n",
    "\n",
    "Also, the performance between logistic regression model and random forest model seems similar. The overall accuracy both higher than 85%, and f1-score all above 80%, which indicates both models are performing well.\n"
   ]
  },
  {
   "cell_type": "markdown",
   "metadata": {
    "id": "vMOllZ36P2fs"
   },
   "source": [
    "# Further Question & Future Steps"
   ]
  },
  {
   "cell_type": "markdown",
   "metadata": {
    "id": "yAwS2ZUPTcrm"
   },
   "source": [
    "1. Which model is suitable for predicting categorical data?    \n",
    "In this project, I used logistic regression model and random forest model only. However, maybe I need to use different kinds of model, then compare the performance of all the models.     \n",
    "> Future Steps: Need to know other kinds of models for categorical data prediction.\n",
    "2. How to choose which attributes should include in the training dataset?   \n",
    "In this project, I manually and randomly choose the attributes in the training dataset. It is somehow inefficient.\n",
    "> Future Steps: Knowing the technique to choose the best attributes.\n",
    "3. Transform categorical data     \n",
    "In this project, I used one-hot encoder for training set; and used label encoder for target column. Seems like there are many different methods for encoding. \n",
    "> Future Steps: Learn more about the encdoing methods, and their pros & cons.\n",
    "\n"
   ]
  },
  {
   "cell_type": "markdown",
   "metadata": {
    "id": "55SeTNd5P5vs"
   },
   "source": [
    "\n",
    "# Technical Reference\n",
    "- [Mental Health in Tech Survey Dataset - Kaggle](https://www.kaggle.com/osmi/mental-health-in-tech-survey)\n",
    "- [How to Remove Outliers for Machine Learning](https://machinelearningmastery.com/how-to-use-statistics-to-identify-outliers-in-data/)\n",
    "- [A Gentle Introduction to the Chi-Squared Test for Machine Learning](https://machinelearningmastery.com/chi-squared-test-for-machine-learning/)\n",
    "- [How to Perform Feature Selection with Categorical Data](https://machinelearningmastery.com/feature-selection-with-categorical-data/)\n",
    "- [Ordinal and One-Hot Encodings for Categorical Data](https://machinelearningmastery.com/one-hot-encoding-for-categorical-data/)\n",
    "- [Metrics To Evaluate Machine Learning Algorithms in Python](https://machinelearningmastery.com/metrics-evaluate-machine-learning-algorithms-python/)\n",
    "- [Mental health survey analysis - Kaggle Notebook](https://www.kaggle.com/aishu200023/mental-health-survey-analysis)\n",
    "\n",
    "# Information Reference\n",
    "- [Mental Health in the Workplace](https://www.cdc.gov/workplacehealthpromotion/tools-resources/workplace-health/mental-health/index.html)\n",
    "- [15 Gender Identity Terms You Need to Know to Build an Inclusive Workplace](https://business.linkedin.com/talent-solutions/blog/diversity/2019/15-gender-identity-terms-for-inclusive-workplace)"
   ]
  }
 ],
 "metadata": {
  "colab": {
   "collapsed_sections": [],
   "name": "ALY_6015_Sandy_Chiang_Project1.ipynb",
   "provenance": []
  },
  "kernelspec": {
   "display_name": "Python 3",
   "language": "python",
   "name": "python3"
  },
  "language_info": {
   "codemirror_mode": {
    "name": "ipython",
    "version": 3
   },
   "file_extension": ".py",
   "mimetype": "text/x-python",
   "name": "python",
   "nbconvert_exporter": "python",
   "pygments_lexer": "ipython3",
   "version": "3.7.4"
  }
 },
 "nbformat": 4,
 "nbformat_minor": 1
}
